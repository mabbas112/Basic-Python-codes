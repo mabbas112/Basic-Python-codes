{
 "cells": [
  {
   "cell_type": "markdown",
   "metadata": {},
   "source": [
    "##### 7-1. Rental Car: Write a program that asks the user what kind of rental car they\n",
    "would like. Print a message about that car, such as “Let me see if I can find you\n",
    "a Subaru.”\n"
   ]
  },
  {
   "cell_type": "code",
   "execution_count": 1,
   "metadata": {},
   "outputs": [
    {
     "name": "stdout",
     "output_type": "stream",
     "text": [
      "What kind of car would you like to rent: suzuki\n",
      "Let me see if I can find you a Suzuki\n"
     ]
    }
   ],
   "source": [
    "question = input('What kind of car would you like to rent: ')\n",
    "print('Let me see if I can find you a '+ question.title())"
   ]
  },
  {
   "cell_type": "markdown",
   "metadata": {},
   "source": [
    "##### 7-2. Restaurant Seating: Write a program that asks the user how many people\n",
    "are in their dinner group. If the answer is more than eight, print a message saying\n",
    "they’ll have to wait for a table. Otherwise, report that their table is ready.\n"
   ]
  },
  {
   "cell_type": "code",
   "execution_count": 6,
   "metadata": {},
   "outputs": [
    {
     "name": "stdout",
     "output_type": "stream",
     "text": [
      "How many people are in their dinner group: 9\n",
      "They’ll have to wait for a table\n"
     ]
    }
   ],
   "source": [
    "seating = int(input('How many people are in their dinner group: '))\n",
    "if seating > 8:\n",
    "    print('They’ll have to wait for a table')\n",
    "else:\n",
    "    print('Table is ready')"
   ]
  },
  {
   "cell_type": "markdown",
   "metadata": {},
   "source": [
    "##### 7-3. Multiples of Ten: Ask the user for a number, and then report whether the\n",
    "number is a multiple of 10 or not."
   ]
  },
  {
   "cell_type": "code",
   "execution_count": 8,
   "metadata": {},
   "outputs": [
    {
     "name": "stdout",
     "output_type": "stream",
     "text": [
      "Enter a number to check if its multiple of 10 or not: 45\n",
      "No its not multiple of 10\n"
     ]
    }
   ],
   "source": [
    "multiple = int(input('Enter a number to check if its multiple of 10 or not: '))\n",
    "if multiple%10==0:\n",
    "    print('Yes it is multiple of 10')\n",
    "else:\n",
    "    print('No its not multiple of 10')"
   ]
  },
  {
   "cell_type": "markdown",
   "metadata": {},
   "source": [
    "##### 7-4. Pizza Toppings: Write a loop that prompts the user to enter a series of\n",
    "pizza toppings until they enter a 'quit' value. As they enter each topping,\n",
    "print a message saying you’ll add that topping to their pizza.\n"
   ]
  },
  {
   "cell_type": "code",
   "execution_count": 11,
   "metadata": {},
   "outputs": [
    {
     "name": "stdout",
     "output_type": "stream",
     "text": [
      "Enter TOPPINGS, quit for exit:    mushrooms\n",
      "You’ll add that mushrooms to their pizza\n",
      "Enter TOPPINGS, quit for exit:    sauce\n",
      "You’ll add that sauce to their pizza\n",
      "Enter TOPPINGS, quit for exit:    quit\n"
     ]
    }
   ],
   "source": [
    "toppings= ''\n",
    "while toppings != 'quit':\n",
    "        toppings= input('Enter TOPPINGS, quit for exit:    ')\n",
    "        if toppings!='quit':\n",
    "            print('You’ll add that {} to their pizza'.format(toppings))\n",
    "            \n"
   ]
  },
  {
   "cell_type": "markdown",
   "metadata": {},
   "source": [
    "##### 7-5. Movie Tickets: A movie theater charges different ticket prices depending on\n",
    "a person’s age. If a person is under the age of 3, the ticket is free; if they are\n",
    "between 3 and 12, the ticket is $10; and if they are over age 12, the ticket is\n",
    "$15. Write a loop in which you ask users their age, and then tell them the cost\n",
    "of their movie ticket"
   ]
  },
  {
   "cell_type": "code",
   "execution_count": 18,
   "metadata": {},
   "outputs": [
    {
     "name": "stdout",
     "output_type": "stream",
     "text": [
      "Enter age:   6\n",
      "Ticket is 10\n",
      "Do you want to quit: yes or no  -->  \n",
      "no\n",
      "Enter age:   3\n",
      "Ticket is 15\n",
      "Do you want to quit: yes or no  -->  \n",
      "yes\n"
     ]
    }
   ],
   "source": [
    "status = True\n",
    "while status:\n",
    "        age= int(input('Enter age:   '))\n",
    "        if age < 3 :\n",
    "            print('Ticket is free')\n",
    "        elif age > 3 and age < 12:\n",
    "            print('Ticket is 10')\n",
    "        else:\n",
    "            print('Ticket is 15')\n",
    "        print('Do you want to quit: yes or no  -->  ')\n",
    "        stat= input()\n",
    "        if stat== 'yes':\n",
    "            status=False\n"
   ]
  },
  {
   "cell_type": "markdown",
   "metadata": {},
   "source": [
    "##### 7-6. Three Exits: Write different versions of either Exercise 7-4 or Exercise 7-5\n",
    "that do each of the following at least once:\n",
    "• Use a conditional test in the while statement to stop the loop.\n",
    "• Use an active variable to control how long the loop runs.\n",
    "• Use a break statement to exit the loop when the user enters a 'quit' value.\n"
   ]
  },
  {
   "cell_type": "code",
   "execution_count": 20,
   "metadata": {},
   "outputs": [
    {
     "name": "stdout",
     "output_type": "stream",
     "text": [
      "Enter age:   4\n",
      "Ticket is 10\n",
      "Do you want to quit: yes or no  -->  \n",
      "yes\n"
     ]
    }
   ],
   "source": [
    "status = True\n",
    "count=0\n",
    "while status:\n",
    "        count+=1\n",
    "        age= int(input('Enter age:   '))\n",
    "        if age < 3 :\n",
    "            print('Ticket is free')\n",
    "        elif age > 3 and age < 12:\n",
    "            print('Ticket is 10')\n",
    "        else:\n",
    "            print('Ticket is 15')\n",
    "        print('Do you want to quit: yes or no  -->  ')\n",
    "        stat= input()\n",
    "        if stat== 'yes':\n",
    "            status=False\n",
    "            break"
   ]
  },
  {
   "cell_type": "markdown",
   "metadata": {},
   "source": [
    "##### 7-7. Infinity: Write a loop that never ends, and run it. (To end the loop, press\n",
    "ctrl-C or close the window displaying the output.)"
   ]
  },
  {
   "cell_type": "code",
   "execution_count": 22,
   "metadata": {},
   "outputs": [],
   "source": [
    "#while True:\n",
    " #   print('Blaw ')"
   ]
  },
  {
   "cell_type": "markdown",
   "metadata": {},
   "source": [
    "##### 7-8. Deli: Make a list called sandwich_orders and fill it with the names of various\n",
    "sandwiches. Then make an empty list called finished_sandwiches. Loop\n",
    "through the list of sandwich orders and print a message for each order, such\n",
    "as I made your tuna sandwich. As each sandwich is made, move it to the list\n",
    "of finished sandwiches. After all the sandwiches have been made, print a\n",
    "message listing each sandwich that was made.\n"
   ]
  },
  {
   "cell_type": "code",
   "execution_count": 48,
   "metadata": {},
   "outputs": [
    {
     "name": "stdout",
     "output_type": "stream",
     "text": [
      "I made your chicken sandwich.\n",
      "I made your pastrami sandwich.\n",
      "I made your meat sandwich.\n",
      "I made your pastrami sandwich.\n",
      "I made your egg sandwich.\n",
      "I made your pastrami sandwich.\n",
      "I made your cheese sandwich.\n",
      "Sandwich that was made:  chicken, pastrami, meat, pastrami, egg, pastrami, cheese, "
     ]
    }
   ],
   "source": [
    "sandwich_orders = ['chicken','pastrami','meat','pastrami','egg','pastrami','cheese']\n",
    "finished_sandwiches=[]\n",
    "count =1\n",
    "while count<=len(sandwich_orders):\n",
    "    print('I made your '+sandwich_orders[count-1]+' sandwich.')\n",
    "    finished_sandwiches.append(sandwich_orders[count-1])\n",
    "    count+=1\n",
    "print('Sandwich that was made: ',end=' ')\n",
    "for i in finished_sandwiches:\n",
    "    print(i,end=', ')"
   ]
  },
  {
   "cell_type": "markdown",
   "metadata": {},
   "source": [
    "##### 7-9. No Pastrami: Using the list sandwich_orders from Exercise 7-8, make sure\n",
    "the sandwich 'pastrami' appears in the list at least three times. Add code\n",
    "near the beginning of your program to print a message saying the deli has\n",
    "run out of pastrami, and then use a while loop to remove all occurrences of\n",
    "'pastrami' from sandwich_orders. Make sure no pastrami sandwiches end up\n",
    "in finished_sandwiches.\n"
   ]
  },
  {
   "cell_type": "code",
   "execution_count": 52,
   "metadata": {},
   "outputs": [
    {
     "name": "stdout",
     "output_type": "stream",
     "text": [
      "Deli has run out of pastrami\n",
      "['chicken', 'meat', 'egg', 'cheese']\n",
      "['chicken', 'meat', 'egg', 'cheese']\n"
     ]
    }
   ],
   "source": [
    "count=sandwich_orders.count('pastrami')\n",
    "print('Deli has run out of pastrami')\n",
    "while 'pastrami' in sandwich_orders:\n",
    "    sandwich_orders.remove('pastrami')\n",
    "print(sandwich_orders)\n",
    "finished_sandwiches=[]\n",
    "finished_sandwiches.extend(sandwich_orders)\n",
    "print(finished_sandwiches)"
   ]
  },
  {
   "cell_type": "markdown",
   "metadata": {},
   "source": [
    "##### 7-10. Dream Vacation: Write a program that polls users about their dream\n",
    "vacation. Write a prompt similar to If you could visit one place in the world,\n",
    "where would you go? Include a block of code that prints the results of the poll."
   ]
  },
  {
   "cell_type": "code",
   "execution_count": 58,
   "metadata": {},
   "outputs": [
    {
     "name": "stdout",
     "output_type": "stream",
     "text": [
      "If you could visit one place in the world, where would you go? berlin\n",
      "Do you want to continue: yes or no   -->   \n",
      "yes\n",
      "If you could visit one place in the world, where would you go? london\n",
      "Do you want to continue: yes or no   -->   \n",
      "yes\n",
      "If you could visit one place in the world, where would you go? NYC\n",
      "Do you want to continue: yes or no   -->   \n",
      "no\n",
      "POLL result:  berlin london NYC "
     ]
    }
   ],
   "source": [
    "place=[]\n",
    "status=True\n",
    "while status:\n",
    "    place.append(input('If you could visit one place in the world, where would you go? '))\n",
    "    print('Do you want to continue: yes or no   -->   ')\n",
    "    msg=input()\n",
    "    if msg=='no':\n",
    "        status=False\n",
    "print('POLL result: ',end=' ')\n",
    "for i in place:\n",
    "    print(i,end=' ')"
   ]
  },
  {
   "cell_type": "code",
   "execution_count": null,
   "metadata": {},
   "outputs": [],
   "source": []
  },
  {
   "cell_type": "code",
   "execution_count": null,
   "metadata": {},
   "outputs": [],
   "source": []
  }
 ],
 "metadata": {
  "kernelspec": {
   "display_name": "Python 3",
   "language": "python",
   "name": "python3"
  },
  "language_info": {
   "codemirror_mode": {
    "name": "ipython",
    "version": 3
   },
   "file_extension": ".py",
   "mimetype": "text/x-python",
   "name": "python",
   "nbconvert_exporter": "python",
   "pygments_lexer": "ipython3",
   "version": "3.8.5"
  }
 },
 "nbformat": 4,
 "nbformat_minor": 4
}
