{
 "cells": [
  {
   "cell_type": "markdown",
   "metadata": {},
   "source": [
    "##### 9-1. Restaurant: Make a class called Restaurant. The __init__() method for\n",
    "Restaurant should store two attributes: a restaurant_name and a cuisine_type.\n",
    "Make a method called describe_restaurant() that prints these two pieces of\n",
    "information, and a method called open_restaurant() that prints a message indicating\n",
    "that the restaurant is open.\n",
    "Make an instance called restaurant from your class. Print the two attributes\n",
    "individually, and then call both methods.\n"
   ]
  },
  {
   "cell_type": "code",
   "execution_count": 1,
   "metadata": {},
   "outputs": [
    {
     "name": "stdout",
     "output_type": "stream",
     "text": [
      "ABC\n",
      "XYZ\n",
      "Restaurant name is ABC and Restaurant cuisine is XYZ.\n",
      "Restaurant is open now!\n"
     ]
    }
   ],
   "source": [
    "class Restaurant():\n",
    "    def __init__(self, restaurant_name, restaurant_cuisine):\n",
    "        self.restaurant_name= restaurant_name\n",
    "        self.restaurant_cuisine=restaurant_cuisine\n",
    "        self.number_served=0\n",
    "    def describe_restaurant(self):\n",
    "        print('Restaurant name is {} and Restaurant cuisine is {}.'.format(self.restaurant_name,\n",
    "                                                                          self.restaurant_cuisine))\n",
    "    def open_restaurant(self):\n",
    "        print('Restaurant is open now!')\n",
    "        \n",
    "    def set_number_served(self , number_served):\n",
    "        self.number_served = number_served\n",
    "    def increment_number_served(self, number_served):\n",
    "        self.number_served+=number_served\n",
    "        \n",
    "restaurant1 = Restaurant('ABC','XYZ')\n",
    "print(restaurant1.restaurant_name,end='\\n')\n",
    "print(restaurant1.restaurant_cuisine,end='\\n')\n",
    "restaurant1.describe_restaurant()\n",
    "restaurant1.open_restaurant()"
   ]
  },
  {
   "cell_type": "markdown",
   "metadata": {},
   "source": [
    "##### 9-2. Three Restaurants: Start with your class from Exercise 9-1. Create three\n",
    "different instances from the class, and call describe_restaurant() for each\n",
    "instance.\n"
   ]
  },
  {
   "cell_type": "code",
   "execution_count": 2,
   "metadata": {},
   "outputs": [
    {
     "name": "stdout",
     "output_type": "stream",
     "text": [
      "Restaurant name is ABC and Restaurant cuisine is XYZ.\n",
      "Restaurant name is DEF and Restaurant cuisine is UVW.\n",
      "Restaurant name is GHI and Restaurant cuisine is RST.\n"
     ]
    }
   ],
   "source": [
    "rest1=Restaurant('ABC','XYZ')\n",
    "rest2=Restaurant('DEF','UVW')\n",
    "rest3=Restaurant('GHI','RST')\n",
    "rest1.describe_restaurant()\n",
    "rest2.describe_restaurant()\n",
    "rest3.describe_restaurant()"
   ]
  },
  {
   "cell_type": "markdown",
   "metadata": {},
   "source": [
    "##### 9-3. Users: Make a class called User. Create two attributes called first_name\n",
    "and last_name, and then create several other attributes that are typically stored\n",
    "in a user profile. Make a method called describe_user() that prints a summary\n",
    "of the user’s information. Make another method called greet_user() that prints\n",
    "a personalized greeting to the user.\n",
    "Create several instances representing different users, and call both methods\n",
    "for each user."
   ]
  },
  {
   "cell_type": "code",
   "execution_count": 3,
   "metadata": {},
   "outputs": [
    {
     "name": "stdout",
     "output_type": "stream",
     "text": [
      "User Name --> Muhammad Abbas\n",
      " Age --> 22 \n",
      "Gender -->  Male\n",
      "\n",
      "Aoa Mr.Muhammad Abbas, Hope so you are doing well.\n",
      "\n",
      "User Name --> Ali Haider\n",
      " Age --> 8 \n",
      "Gender -->  Male\n",
      "\n",
      "Aoa Mr.Ali Haider, Hope so you are doing well.\n",
      "\n",
      "User Name --> Kulsoom Akhter\n",
      " Age --> 12 \n",
      "Gender -->  Female\n",
      "\n",
      "Aoa Mr.Kulsoom Akhter, Hope so you are doing well.\n"
     ]
    }
   ],
   "source": [
    "class User():\n",
    "    def __init__(self, first_name, last_name, age, gender):\n",
    "        self.first_name = first_name\n",
    "        self.last_name = last_name\n",
    "        self.age = age\n",
    "        self.gender = gender\n",
    "        self.login_attempts=0\n",
    "    def describe_user(self):\n",
    "        print('User Name --> {} {}\\n Age --> {} \\nGender -->  {}\\n'.format(\n",
    "        self.first_name,self.last_name,self.age,self.gender))\n",
    "    def greet_user(self):\n",
    "        print('Aoa Mr.{} {}, Hope so you are doing well.'.format(self.first_name,self.last_name))\n",
    "    def increment_login_attempts(self):\n",
    "        self.login_attempts+=1\n",
    "    def reset_login_attempts(self):\n",
    "        self.login_attempts=0\n",
    "    \n",
    "\n",
    "user1 = User('Muhammad','Abbas',22,'Male')\n",
    "user2=User('Ali','Haider',8,'Male')\n",
    "user3=User('Kulsoom','Akhter',12,'Female')\n",
    "\n",
    "user1.describe_user()\n",
    "user1.greet_user()\n",
    "\n",
    "print()\n",
    "user2.describe_user()\n",
    "user2.greet_user()\n",
    "\n",
    "print()\n",
    "user3.describe_user()\n",
    "user3.greet_user()\n",
    "\n"
   ]
  },
  {
   "cell_type": "markdown",
   "metadata": {},
   "source": [
    "##### 9-4. Number Served: Start with your program from Exercise 9-1 (page 166).\n",
    "Add an attribute called number_served with a default value of 0. Create an\n",
    "instance called restaurant from this class. Print the number of customers the\n",
    "restaurant has served, and then change this value and print it again.\n",
    "Add a method called set_number_served() that lets you set the number\n",
    "of customers that have been served. Call this method with a new number and\n",
    "print the value again.\n",
    "Add a method called increment_number_served() that lets you increment\n",
    "the number of customers who’ve been served. Call this method with any number\n",
    "you like that could represent how many customers were served in, say, a\n",
    "day of business.\n"
   ]
  },
  {
   "cell_type": "code",
   "execution_count": 4,
   "metadata": {},
   "outputs": [
    {
     "name": "stdout",
     "output_type": "stream",
     "text": [
      "Number of customers the restaurant has served are 0\n",
      "Number of customers the restaurant has served are 12\n",
      "Number of customers the restaurant has served are 4\n",
      "Number of customers the restaurant has served in a day 71\n"
     ]
    }
   ],
   "source": [
    "#first look at 9.1 \n",
    "restaurant =  Restaurant('abc','xyz')\n",
    "print('Number of customers the restaurant has served are {}'.format(restaurant.number_served))\n",
    "restaurant.number_served=12\n",
    "print('Number of customers the restaurant has served are {}'.format(restaurant.number_served))\n",
    "restaurant.set_number_served(4)\n",
    "print('Number of customers the restaurant has served are {}'.format(restaurant.number_served))\n",
    "restaurant.increment_number_served(67)\n",
    "print('Number of customers the restaurant has served in a day {}'.format(restaurant.number_served))\n"
   ]
  },
  {
   "cell_type": "markdown",
   "metadata": {},
   "source": [
    "##### 9-5. Login Attempts: Add an attribute called login_attempts to your User\n",
    "class from Exercise 9-3 (page 166). Write a method called increment_\n",
    "login_attempts() that increments the value of login_attempts by 1. Write\n",
    "another method called reset_login_attempts() that resets the value of login_\n",
    "attempts to 0.\n",
    "Make an instance of the User class and call increment_login_attempts()\n",
    "several times. Print the value of login_attempts to make sure it was incremented\n",
    "properly, and then call reset_login_attempts(). Print login_attempts again to\n",
    "make sure it was reset to 0."
   ]
  },
  {
   "cell_type": "code",
   "execution_count": 5,
   "metadata": {},
   "outputs": [
    {
     "name": "stdout",
     "output_type": "stream",
     "text": [
      "Login attempts are:  5\n",
      "Login attempts are:  0\n"
     ]
    }
   ],
   "source": [
    "#first look at 9.3\n",
    "user4 = User('New','User',0,'None')\n",
    "user4.increment_login_attempts()\n",
    "user4.increment_login_attempts()\n",
    "user4.increment_login_attempts()\n",
    "user4.increment_login_attempts()\n",
    "user4.increment_login_attempts()\n",
    "print('Login attempts are:  {}'.format(user4.login_attempts))\n",
    "user4.reset_login_attempts()\n",
    "print('Login attempts are:  {}'.format(user4.login_attempts))"
   ]
  },
  {
   "cell_type": "markdown",
   "metadata": {},
   "source": [
    "##### 9-6. Ice Cream Stand: An ice cream stand is a specific kind of restaurant. Write\n",
    "a class called IceCreamStand that inherits from the Restaurant class you wrote\n",
    "in Exercise 9-1 (page 166) or Exercise 9-4 (page 171). Either version of\n",
    "the class will work; just pick the one you like better. Add an attribute called\n",
    "flavors that stores a list of ice cream flavors. Write a method that displays\n",
    "these flavors. Create an instance of IceCreamStand, and call this method.\n"
   ]
  },
  {
   "cell_type": "code",
   "execution_count": 8,
   "metadata": {},
   "outputs": [
    {
     "name": "stdout",
     "output_type": "stream",
     "text": [
      "Restaurant name is xxx and Restaurant cuisine is yyy.\n",
      "mango, strawberry, vailla, orange, "
     ]
    }
   ],
   "source": [
    "class IceCreamStand(Restaurant):\n",
    "    def __init__(self, restaurant_name, restaurant_cuisine):\n",
    "        super().__init__(restaurant_name,restaurant_cuisine)\n",
    "        self.flavors = ['mango','strawberry','vailla','orange']\n",
    "    def display_flavors(self):\n",
    "        for flavor in self.flavors:\n",
    "            print(flavor,end=', ')\n",
    "icestand = IceCreamStand('xxx','yyy')\n",
    "icestand.describe_restaurant()\n",
    "icestand.display_flavors()\n"
   ]
  },
  {
   "cell_type": "markdown",
   "metadata": {},
   "source": [
    "##### 9-7. Admin: An administrator is a special kind of user. Write a class called\n",
    "Admin that inherits from the User class you wrote in Exercise 9-3 (page 166)\n",
    "or Exercise 9-5 (page 171). Add an attribute, privileges, that stores a list\n",
    "of strings like \"can add post\", \"can delete post\", \"can ban user\", and so on.\n",
    "Write a method called show_privileges() that lists the administrator’s set of\n",
    "privileges. Create an instance of Admin, and call your method.\n"
   ]
  },
  {
   "cell_type": "code",
   "execution_count": 38,
   "metadata": {},
   "outputs": [
    {
     "name": "stdout",
     "output_type": "stream",
     "text": [
      "User Name --> Admin Admin\n",
      " Age --> 0 \n",
      "Gender -->  None\n",
      "\n"
     ]
    }
   ],
   "source": [
    "class Admin(User):\n",
    "    def __init__(self, first_name, last_name, age, gender):\n",
    "        super().__init__(first_name, last_name, age, gender)\n",
    "        self.privileges = [ \"can add post\", \"can delete post\", \"can ban user\",\"can modify post\"]\n",
    "        self.p = Privileges()\n",
    "    \"\"\"\"def show_privileges(self):\n",
    "        for privilege in self.privileges:\n",
    "            print(privilege,end=', ')\"\"\"\n",
    "admin = Admin('Admin','Admin',0,'None')\n",
    "admin.describe_user()\n",
    "\n",
    "\n",
    "\n"
   ]
  },
  {
   "cell_type": "markdown",
   "metadata": {},
   "source": [
    "##### 9-8. Privileges: Write a separate Privileges class. The class should have one\n",
    "attribute, privileges, that stores a list of strings as described in Exercise 9-7.\n",
    "Move the show_privileges() method to this class. Make a Privileges instance\n",
    "as an attribute in the Admin class. Create a new instance of Admin and use your\n",
    "method to show its privileges.\n"
   ]
  },
  {
   "cell_type": "code",
   "execution_count": 39,
   "metadata": {},
   "outputs": [
    {
     "name": "stdout",
     "output_type": "stream",
     "text": [
      "User Name --> Admin2 Admin2\n",
      " Age --> 0 \n",
      "Gender -->  None\n",
      "\n",
      "can add post, can delete post, can ban user, can modify post, "
     ]
    }
   ],
   "source": [
    "class Privileges():\n",
    "    def __init__(self):\n",
    "        self.privileges = [\"can add post\", \"can delete post\", \"can ban user\",\"can modify post\"]\n",
    "    def show_privileges(self):\n",
    "        for privilege in self.privileges:\n",
    "            print(privilege,end=', ')\n",
    "admin2 = Admin('Admin2','Admin2',0,'None')\n",
    "admin2.describe_user()\n",
    "admin2.p.show_privileges()"
   ]
  },
  {
   "cell_type": "markdown",
   "metadata": {},
   "source": [
    "##### 9-9. Battery Upgrade: Use the final version of electric_car.py from this section.\n",
    "Add a method to the Battery class called upgrade_battery(). This method\n",
    "should check the battery size and set the capacity to 85 if it isn’t already.\n",
    "Make an electric car with a default battery size, call get_range() once, and\n",
    "then call get_range() a second time after upgrading the battery. You should\n",
    "see an increase in the car’s range."
   ]
  },
  {
   "cell_type": "code",
   "execution_count": 48,
   "metadata": {},
   "outputs": [
    {
     "name": "stdout",
     "output_type": "stream",
     "text": [
      "2016 Tesla Model S\n",
      "This car has a 70-kWh battery.\n",
      "This car can go approximately 240 miles on a full charge.\n",
      "\n",
      "This car can go approximately 240 miles on a full charge.\n",
      "This car can go approximately 270 miles on a full charge.\n"
     ]
    }
   ],
   "source": [
    "class Car():\n",
    "    \"\"\"A simple attempt to represent a car.\"\"\"\n",
    "    def __init__(self, make, model, year):\n",
    "        self.make = make\n",
    "        self.model = model\n",
    "        self.year = year\n",
    "        self.odometer_reading = 0\n",
    "    def get_descriptive_name(self):\n",
    "        long_name = str(self.year) + ' ' + self.make + ' ' + self.model\n",
    "        return long_name.title()\n",
    "    def read_odometer(self):\n",
    "        print(\"This car has \" + str(self.odometer_reading) + \" miles on it.\")\n",
    "    def update_odometer(self, mileage):\n",
    "        if mileage >= self.odometer_reading:\n",
    "            self.odometer_reading = mileage\n",
    "        else:\n",
    "            print(\"You can't roll back an odometer!\")\n",
    "    def increment_odometer(self, miles):\n",
    "        self.odometer_reading += miles\n",
    "        \n",
    "        \n",
    "class ElectricCar(Car):\n",
    "    \"\"\"Represent aspects of a car, specific to electric vehicles.\"\"\"\n",
    "    def __init__(self, make, model, year):\n",
    "        \"\"\"Initialize attributes of the parent class.\"\"\"\n",
    "        super().__init__(make, model, year)\n",
    "        self.battery = Battery()\n",
    "\n",
    "        \n",
    "class Battery():\n",
    "    \"\"\"A simple attempt to model a battery for an electric car.\"\"\"\n",
    "    def __init__(self, battery_size=70):\n",
    "        \"\"\"Initialize the battery's attributes.\"\"\"\n",
    "        self.battery_size = battery_size\n",
    "    def describe_battery(self):\n",
    "        \"\"\"Print a statement describing the battery size.\"\"\"\n",
    "        print(\"This car has a \" + str(self.battery_size) + \"-kWh battery.\")\n",
    "    def get_range(self):\n",
    "        \"\"\"Print a statement about the range this battery provides.\"\"\"\n",
    "        if self.battery_size == 70:\n",
    "            range = 240\n",
    "        elif self.battery_size == 85:\n",
    "            range = 270\n",
    "        message = \"This car can go approximately \" + str(range)\n",
    "        message += \" miles on a full charge.\"\n",
    "        print(message)\n",
    "    def upgrade_battery(self):\n",
    "        if self.battery_size != 85:\n",
    "            self.battery_size = 85\n",
    "\n",
    "my_tesla = ElectricCar('tesla', 'model s', 2016)\n",
    "print(my_tesla.get_descriptive_name())\n",
    "my_tesla.battery.describe_battery()\n",
    "my_tesla.battery.get_range()\n",
    "\n",
    "print()\n",
    "my_tesla2 = ElectricCar('tesla2', 'model s2', 2018)\n",
    "my_tesla2.battery.get_range()\n",
    "my_tesla2.battery.upgrade_battery()\n",
    "my_tesla2.battery.get_range()"
   ]
  },
  {
   "cell_type": "markdown",
   "metadata": {},
   "source": [
    "##### 9-10. Imported Restaurant: Using your latest Restaurant class, store it in a module.\n",
    "Make a separate file that imports Restaurant. Make a Restaurant instance,\n",
    "and call one of Restaurant’s methods to show that the import statement is working\n",
    "properly.\n"
   ]
  },
  {
   "cell_type": "code",
   "execution_count": 2,
   "metadata": {},
   "outputs": [
    {
     "name": "stdout",
     "output_type": "stream",
     "text": [
      "Restaurant name is Module and Restaurant cuisine is restaurant.\n",
      "Restaurant is open now!\n"
     ]
    }
   ],
   "source": [
    "from restaurant import Restaurant\n",
    "rest1= Restaurant('Module','restaurant')\n",
    "rest1.describe_restaurant()\n",
    "rest1.open_restaurant()"
   ]
  },
  {
   "cell_type": "markdown",
   "metadata": {},
   "source": [
    "##### 9-11. Imported Admin: Start with your work from Exercise 9-8 (page 178).\n",
    "Store the classes User, Privileges, and Admin in one module. Create a separate\n",
    "file, make an Admin instance, and call show_privileges() to show that\n",
    "everything is working correctly.\n"
   ]
  },
  {
   "cell_type": "code",
   "execution_count": 4,
   "metadata": {},
   "outputs": [],
   "source": [
    "#from module import *\n",
    "#keep coding xD"
   ]
  },
  {
   "cell_type": "markdown",
   "metadata": {},
   "source": [
    "##### 9-12. Multiple Modules: Store the User class in one module, and store the\n",
    "Privileges and Admin classes in a separate module. In a separate file, create\n",
    "an Admin instance and call show_privileges() to show that everything is still\n",
    "working correctly."
   ]
  },
  {
   "cell_type": "code",
   "execution_count": 3,
   "metadata": {},
   "outputs": [],
   "source": [
    "#do it"
   ]
  },
  {
   "cell_type": "markdown",
   "metadata": {},
   "source": [
    "##### 9-13. OrderedDict Rewrite: Start with Exercise 6-4 (page 108), where you\n",
    "used a standard dictionary to represent a glossary. Rewrite the program using\n",
    "the OrderedDict class and make sure the order of the output matches the order\n",
    "in which key-value pairs were added to the dictionary.\n"
   ]
  },
  {
   "cell_type": "code",
   "execution_count": 8,
   "metadata": {},
   "outputs": [
    {
     "name": "stdout",
     "output_type": "stream",
     "text": [
      "for:        Loop\n",
      "List:        Data Structure\n",
      "if:        Condition\n",
      "Tuple:        Data structure\n"
     ]
    }
   ],
   "source": [
    "from collections import OrderedDict\n",
    "\n",
    "glossary = OrderedDict()\n",
    "glossary['for']='Loop'\n",
    "glossary['List']='Data Structure'\n",
    "glossary['if']='Condition'\n",
    "glossary['Tuple']='Data structure'\n",
    "\n",
    "\n",
    "for keys,values in glossary.items():\n",
    "    print( keys + ':        '+ values)"
   ]
  },
  {
   "cell_type": "markdown",
   "metadata": {},
   "source": [
    "##### 9-14. Dice: The module random contains functions that generate random numbers\n",
    "in a variety of ways. The function randint() returns an integer in the\n",
    "range you provide. The following code returns a number between 1 and 6:\n",
    "\n",
    "from random import randint\n",
    "x = randint(1, 6)\n",
    "\n",
    "Make a class Die with one attribute called sides, which has a default\n",
    "\n",
    "value of 6. Write a method called roll_die() that prints a random number\n",
    "between 1 and the number of sides the die has. Make a 6-sided die and roll\n",
    "it 10 times.\n",
    "Make a 10-sided die and a 20-sided die. Roll each die 10 times.\n"
   ]
  },
  {
   "cell_type": "code",
   "execution_count": 16,
   "metadata": {},
   "outputs": [
    {
     "name": "stdout",
     "output_type": "stream",
     "text": [
      "Die have 6 sides\n",
      "\n",
      "5, 6, 4, 5, 3, 5, 3, 2, 2, 2, \n",
      "\n",
      "Die have 10 sides\n",
      "\n",
      "6, 3, 6, 3, 9, 3, 5, 3, 7, 8, \n",
      "\n",
      "Die have 20 sides\n",
      "\n",
      "11, 19, 14, 1, 20, 13, 18, 17, 16, 4, \n"
     ]
    }
   ],
   "source": [
    "from random import randint\n",
    "\n",
    "class Die():\n",
    "    def __init__(self,sides=6):\n",
    "        self.sides=sides\n",
    "    def roll_die(self):\n",
    "        print(randint(1,self.sides),end=', ')\n",
    "die6 = Die(6)\n",
    "die10 =Die(10)\n",
    "die20 =Die(20)\n",
    "\n",
    "print('Die have 6 sides\\n')\n",
    "for i in range(0,10):\n",
    "        die6.roll_die()\n",
    "print('\\n\\nDie have 10 sides\\n')\n",
    "\n",
    "for i in range(0,10):\n",
    "        die10.roll_die()\n",
    "print('\\n\\nDie have 20 sides\\n')\n",
    "\n",
    "for i in range(0,10):\n",
    "        die20.roll_die()\n",
    "print()\n",
    "    "
   ]
  },
  {
   "cell_type": "markdown",
   "metadata": {},
   "source": [
    "##### 9-15. Python Module of the Week: One excellent resource for exploring the\n",
    "Python standard library is a site called Python Module of the Week. Go to\n",
    "http://pymotw.com/ and look at the table of contents. Find a module that\n",
    "looks interesting to you and read about it, or explore the documentation of\n",
    "the collections and random modules."
   ]
  },
  {
   "cell_type": "code",
   "execution_count": 17,
   "metadata": {},
   "outputs": [],
   "source": [
    "#okkk explore them"
   ]
  },
  {
   "cell_type": "code",
   "execution_count": null,
   "metadata": {},
   "outputs": [],
   "source": []
  },
  {
   "cell_type": "code",
   "execution_count": null,
   "metadata": {},
   "outputs": [],
   "source": []
  }
 ],
 "metadata": {
  "kernelspec": {
   "display_name": "Python 3",
   "language": "python",
   "name": "python3"
  },
  "language_info": {
   "codemirror_mode": {
    "name": "ipython",
    "version": 3
   },
   "file_extension": ".py",
   "mimetype": "text/x-python",
   "name": "python",
   "nbconvert_exporter": "python",
   "pygments_lexer": "ipython3",
   "version": "3.8.5"
  }
 },
 "nbformat": 4,
 "nbformat_minor": 4
}
