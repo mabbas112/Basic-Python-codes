{
 "cells": [
  {
   "cell_type": "markdown",
   "metadata": {},
   "source": [
    "##### 8-1. Message: Write a function called display_message() that prints one sentence\n",
    "telling everyone what you are learning about in this chapter. Call the\n",
    "function, and make sure the message displays correctly.\n"
   ]
  },
  {
   "cell_type": "code",
   "execution_count": 1,
   "metadata": {},
   "outputs": [
    {
     "name": "stdout",
     "output_type": "stream",
     "text": [
      "In this chapter we will learn about user defined Functions in python\n"
     ]
    }
   ],
   "source": [
    "def display_message():\n",
    "    print('In this chapter we will learn about user defined Functions in python')\n",
    "display_message()"
   ]
  },
  {
   "cell_type": "markdown",
   "metadata": {},
   "source": [
    "##### 8-2. Favorite Book: Write a function called favorite_book() that accepts one\n",
    "parameter, title. The function should print a message, such as One of my\n",
    "favorite books is Alice in Wonderland. Call the function, making sure to\n",
    "include a book title as an argument in the function call."
   ]
  },
  {
   "cell_type": "code",
   "execution_count": 2,
   "metadata": {},
   "outputs": [
    {
     "name": "stdout",
     "output_type": "stream",
     "text": [
      "One Of My Favorite Book Is Who Will Cry When You Die.\n"
     ]
    }
   ],
   "source": [
    "def favorite_book(title):\n",
    "    print('One of my favorite book is {}.'.format(title).title())\n",
    "favorite_book('Who will cry when you die')    "
   ]
  },
  {
   "cell_type": "markdown",
   "metadata": {},
   "source": [
    "##### 8-3. T-Shirt: Write a function called make_shirt() that accepts a size and the\n",
    "text of a message that should be printed on the shirt. The function should print\n",
    "a sentence summarizing the size of the shirt and the message printed on it.\n",
    "Call the function once using positional arguments to make a shirt. Call the\n",
    "function a second time using keyword arguments.\n"
   ]
  },
  {
   "cell_type": "code",
   "execution_count": 3,
   "metadata": {},
   "outputs": [
    {
     "name": "stdout",
     "output_type": "stream",
     "text": [
      "Shirt size is small and the test printed on is \"Unique People wears unique style\"\n",
      "\n",
      " Using keyword Arguments\n",
      "\n",
      "Shirt size is small and the test printed on is \"Don't Undo\"\n"
     ]
    }
   ],
   "source": [
    "def make_shirt(size,msg):\n",
    "    print('Shirt size is {} and the test printed on is {}'.format(size,msg))\n",
    "make_shirt('small','\\\"Unique People wears unique style\\\"')\n",
    "print('\\n Using keyword Arguments\\n')\n",
    "make_shirt(msg='\\\"Don\\'t Undo\\\"',size='small')"
   ]
  },
  {
   "cell_type": "markdown",
   "metadata": {},
   "source": [
    "##### 8-4. Large Shirts: Modify the make_shirt() function so that shirts are large\n",
    "by default with a message that reads I love Python. Make a large shirt and a\n",
    "medium shirt with the default message, and a shirt of any size with a different\n",
    "message.\n"
   ]
  },
  {
   "cell_type": "code",
   "execution_count": 4,
   "metadata": {},
   "outputs": [
    {
     "name": "stdout",
     "output_type": "stream",
     "text": [
      "Shirt size is Large and the test printed on is I Love Python\n",
      "Shirt size is Medium and the test printed on is \"Unique People wears unique style\"\n",
      "Shirt size is Small and the test printed on is \"Unique People wears unique style\"\n",
      "\n",
      " Using keyword Arguments\n",
      "\n",
      "Shirt size is Large and the test printed on is I Love Python\n",
      "Shirt size is Medium and the test printed on is \"Don't Undo\"\n",
      "Shirt size is Small and the test printed on is \"Don't Undo\"\n"
     ]
    }
   ],
   "source": [
    "def make_shirt(msg='I Love Python',size='Large'):\n",
    "    print('Shirt size is {} and the test printed on is {}'.format(size,msg))\n",
    "make_shirt()\n",
    "make_shirt('\\\"Unique People wears unique style\\\"','Medium')\n",
    "make_shirt('\\\"Unique People wears unique style\\\"','Small')\n",
    "print('\\n Using keyword Arguments\\n')\n",
    "make_shirt()\n",
    "make_shirt(msg='\\\"Don\\'t Undo\\\"',size='Medium')\n",
    "make_shirt(msg='\\\"Don\\'t Undo\\\"',size='Small')"
   ]
  },
  {
   "cell_type": "markdown",
   "metadata": {},
   "source": [
    "##### 8-5. Cities: Write a function called describe_city() that accepts the name of\n",
    "a city and its country. The function should print a simple sentence, such as\n",
    "Reykjavik is in Iceland. Give the parameter for the country a default value.\n",
    "Call your function for three different cities, at least one of which is not in the\n",
    "default country."
   ]
  },
  {
   "cell_type": "code",
   "execution_count": 5,
   "metadata": {},
   "outputs": [
    {
     "name": "stdout",
     "output_type": "stream",
     "text": [
      "Berlin is in Germany\n",
      "NYC is in America\n",
      "Lahore is in pakistan\n"
     ]
    }
   ],
   "source": [
    "def describe_city(city,country='pakistan'):\n",
    "    print('{} is in {}'.format(city,country))\n",
    "describe_city('Berlin','Germany')\n",
    "describe_city('NYC','America')\n",
    "describe_city('Lahore')"
   ]
  },
  {
   "cell_type": "markdown",
   "metadata": {},
   "source": [
    "##### 8-6. City Names: Write a function called city_country() that takes in the name\n",
    "of a city and its country. The function should return a string formatted like this:\n",
    "\"Santiago, Chile\"\n",
    "Call your function with at least three city-country pairs, and print the value\n",
    "that’s returned.\n"
   ]
  },
  {
   "cell_type": "code",
   "execution_count": 6,
   "metadata": {},
   "outputs": [
    {
     "name": "stdout",
     "output_type": "stream",
     "text": [
      "\"Lahore, Pakistan\"\n",
      "\"Berlin, Germany\"\n",
      "\"Istanbol, Turkey\"\n"
     ]
    }
   ],
   "source": [
    "def city_country(city,country):\n",
    "    return '\\\"{}, {}\\\"'.format(city,country)\n",
    "print(city_country('Lahore','Pakistan'))\n",
    "print(city_country('Berlin','Germany'))\n",
    "print(city_country('Istanbol','Turkey'))"
   ]
  },
  {
   "cell_type": "markdown",
   "metadata": {},
   "source": [
    "##### 8-7. Album: Write a function called make_album() that builds a dictionary\n",
    "describing a music album. The function should take in an artist name and an\n",
    "album title, and it should return a dictionary containing these two pieces of\n",
    "information. Use the function to make three dictionaries representing different\n",
    "albums. Print each return value to show that the dictionaries are storing the\n",
    "album information correctly.\n",
    "Add an optional parameter to make_album() that allows you to store the\n",
    "number of tracks on an album. If the calling line includes a value for the number\n",
    "of tracks, add that value to the album’s dictionary. Make at least one new\n",
    "function call that includes the number of tracks on an album.\n"
   ]
  },
  {
   "cell_type": "code",
   "execution_count": 7,
   "metadata": {},
   "outputs": [
    {
     "name": "stdout",
     "output_type": "stream",
     "text": [
      "{'name': 'Atif', 'title': 'Rockstar'}\n",
      "{'name': 'Rahat', 'title': 'Sufi'}\n",
      "{'name': 'ALi Zafer', 'title': 'Hidden Games'}\n"
     ]
    }
   ],
   "source": [
    "def make_album(artist_name,album_title):\n",
    "    album={'name':artist_name, 'title':album_title}\n",
    "    return album\n",
    "album1=make_album('Atif','Rockstar')\n",
    "print(album1)\n",
    "album2=make_album('Rahat','Sufi')\n",
    "print(album2)\n",
    "album3=make_album('ALi Zafer','Hidden Games')\n",
    "print(album3)"
   ]
  },
  {
   "cell_type": "markdown",
   "metadata": {},
   "source": [
    "##### 8-8. User Albums: Start with your program from Exercise 8-7. Write a while\n",
    "loop that allows users to enter an album’s artist and title. Once you have that\n",
    "information, call make_album() with the user’s input and print the dictionary\n",
    "that’s created. Be sure to include a quit value in the while loop."
   ]
  },
  {
   "cell_type": "code",
   "execution_count": 11,
   "metadata": {},
   "outputs": [
    {
     "name": "stdout",
     "output_type": "stream",
     "text": [
      "Enter Artist name: atif\n",
      "Enter Album title: sad\n",
      "DO you want to quit yes or no: no\n",
      "Enter Artist name: ali\n",
      "Enter Album title: rock\n",
      "DO you want to quit yes or no: yes\n",
      "\n",
      "{'name': 'atif', 'title': 'sad'}\n",
      "{'name': 'ali', 'title': 'rock'}\n"
     ]
    }
   ],
   "source": [
    "status = True\n",
    "album=[]\n",
    "while status:\n",
    "    name= input('Enter Artist name: ')\n",
    "    title=input('Enter Album title: ')\n",
    "    album.append(make_album(name,title))\n",
    "    quit = input('DO you want to quit yes or no: ')\n",
    "    if quit=='yes':\n",
    "        status= False\n",
    "print()\n",
    "for i in album:\n",
    "    print(i)"
   ]
  },
  {
   "cell_type": "markdown",
   "metadata": {},
   "source": [
    "##### 8-9. Magicians: Make a list of magician’s names. Pass the list to a function\n",
    "called show_magicians(), which prints the name of each magician in the list.\n"
   ]
  },
  {
   "cell_type": "code",
   "execution_count": 31,
   "metadata": {},
   "outputs": [
    {
     "name": "stdout",
     "output_type": "stream",
     "text": [
      "john, Tim, Michel, Jack, "
     ]
    }
   ],
   "source": [
    "def show_megicians(magician_names_list):\n",
    "    for i in magician_names_list:\n",
    "        print(i,end=', ')\n",
    "\n",
    "magicina_names=['john','Tim','Michel','Jack']\n",
    "show_megicians(magicina_names)"
   ]
  },
  {
   "cell_type": "markdown",
   "metadata": {},
   "source": [
    "##### 8-10. Great Magicians: Start with a copy of your program from Exercise 8-9.\n",
    "Write a function called make_great() that modifies the list of magicians by adding\n",
    "the phrase the Great to each magician’s name. Call show_magicians() to\n",
    "see that the list has actually been modified.\n"
   ]
  },
  {
   "cell_type": "code",
   "execution_count": 34,
   "metadata": {},
   "outputs": [
    {
     "name": "stdout",
     "output_type": "stream",
     "text": [
      "Great john, Great Tim, Great Michel, Great Jack, "
     ]
    }
   ],
   "source": [
    "def make_great(magician_names_list):\n",
    "    for i in range(0,len(magician_names_list)):\n",
    "        magician_names_list[i]='Great '+magician_names_list[i]\n",
    "    show_megicians(magician_names_list)\n",
    "make_great(magicina_names[:])"
   ]
  },
  {
   "cell_type": "markdown",
   "metadata": {},
   "source": [
    "##### 8-11. Unchanged Magicians: Start with your work from Exercise 8-10. Call the\n",
    "function make_great() with a copy of the list of magicians’ names. Because the\n",
    "original list will be unchanged, return the new list and store it in a separate list.\n",
    "Call show_magicians() with each list to show that you have one list of the original\n",
    "names and one list with the Great added to each magician’s name."
   ]
  },
  {
   "cell_type": "code",
   "execution_count": 35,
   "metadata": {},
   "outputs": [
    {
     "name": "stdout",
     "output_type": "stream",
     "text": [
      "['john', 'Tim', 'Michel', 'Jack']\n",
      "['Great john', 'Great Tim', 'Great Michel', 'Great Jack']\n"
     ]
    }
   ],
   "source": [
    "def make_great(magician_names_list):\n",
    "    for i in range(0,len(magician_names_list)):\n",
    "        magician_names_list[i]='Great '+magician_names_list[i]\n",
    "    return magician_names_list\n",
    "change_name_list= make_great(magicina_names[:])\n",
    "print(magicina_names)\n",
    "print(change_name_list)"
   ]
  },
  {
   "cell_type": "markdown",
   "metadata": {},
   "source": [
    "##### 8-12. Sandwiches: Write a function that accepts a list of items a person wants\n",
    "on a sandwich. The function should have one parameter that collects as many\n",
    "items as the function call provides, and it should print a summary of the sandwich\n",
    "that is being ordered. Call the function three times, using a different number\n",
    "of arguments each time.\n"
   ]
  },
  {
   "cell_type": "code",
   "execution_count": 39,
   "metadata": {},
   "outputs": [
    {
     "name": "stdout",
     "output_type": "stream",
     "text": [
      "List of items are-->     Bread, Butter, Sauce, 5, \n",
      "List of items are-->     CHili, Chicken, Garlic, 4, Onion, \n",
      "List of items are-->     CHili, Ketchup, Chicken, Oil, Garlic, 15, Onion, "
     ]
    }
   ],
   "source": [
    "def list_of_items(*items):\n",
    "    print('List of items are-->    ',end=' ')\n",
    "    for i in items:\n",
    "        print(i,end=', ')\n",
    "        \n",
    "list_of_items('Bread','Butter','Sauce',5)\n",
    "print()\n",
    "list_of_items('CHili','Chicken','Garlic',4,'Onion')\n",
    "print()\n",
    "list_of_items('CHili','Ketchup','Chicken','Oil','Garlic',15,'Onion')"
   ]
  },
  {
   "cell_type": "markdown",
   "metadata": {},
   "source": [
    "##### 8-13. User Profile: Start with a copy of user_profile.py from page 153. Build\n",
    "a profile of yourself by calling build_profile(), using your first and last names\n",
    "and three other key-value pairs that describe you.\n"
   ]
  },
  {
   "cell_type": "code",
   "execution_count": 40,
   "metadata": {},
   "outputs": [
    {
     "name": "stdout",
     "output_type": "stream",
     "text": [
      "{'first_name': 'Muhammad', 'last_name': 'Abbas', 'location': 'Pakistan', 'field': 'Computer Science'}\n"
     ]
    }
   ],
   "source": [
    "def build_profile(first, last, **user_info):\n",
    "    profile = {}\n",
    "    profile['first_name'] = first\n",
    "    profile['last_name'] = last\n",
    "    for key, value in user_info.items():\n",
    "        profile[key] = value\n",
    "    return profile\n",
    "user_profile = build_profile('Muhammad', 'Abbas',\n",
    "location='Pakistan',\n",
    "field='Computer Science')\n",
    "print(user_profile)"
   ]
  },
  {
   "cell_type": "markdown",
   "metadata": {},
   "source": [
    "##### 8-14. Cars: Write a function that stores information about a car in a dictionary.\n",
    "The function should always receive a manufacturer and a model name. It\n",
    "should then accept an arbitrary number of keyword arguments. Call the function\n",
    "with the required information and two other name-value pairs, such as a\n",
    "color or an optional feature. Your function should work for a call like this one:\n",
    "car = make_car('subaru', 'outback', color='blue', tow_package=True)\n",
    "Print the dictionary that’s returned to make sure all the information was\n",
    "stored correctly.\n",
    "Storing"
   ]
  },
  {
   "cell_type": "code",
   "execution_count": 41,
   "metadata": {},
   "outputs": [
    {
     "name": "stdout",
     "output_type": "stream",
     "text": [
      "{'manufecturer': 'subaru', 'model_name': 'outback', 'color': 'blue', 'tow_package': True}\n"
     ]
    }
   ],
   "source": [
    "def make_car(manufecturer,model,**features):\n",
    "    car_dict={}\n",
    "    car_dict['manufecturer']=manufecturer\n",
    "    car_dict['model_name']=model\n",
    "    for key,value in features.items():\n",
    "        car_dict[key]=value\n",
    "    return car_dict\n",
    "\n",
    "car = make_car('subaru', 'outback', color='blue', tow_package=True)\n",
    "print(car)"
   ]
  },
  {
   "cell_type": "markdown",
   "metadata": {},
   "source": [
    "##### 8-15. Printing Models: Put the functions for the example print_models.py in a\n",
    "separate file called printing_functions.py. Write an import statement at the top\n",
    "of print_models.py, and modify the file to use the imported functions.\n"
   ]
  },
  {
   "cell_type": "code",
   "execution_count": 48,
   "metadata": {},
   "outputs": [
    {
     "name": "stdout",
     "output_type": "stream",
     "text": [
      "Thins function is call from printing_functions file.\n"
     ]
    }
   ],
   "source": [
    "import printing_functions as pf\n",
    "pf.printing()\n"
   ]
  },
  {
   "cell_type": "markdown",
   "metadata": {},
   "source": [
    "##### 8-16. Imports: Using a program you wrote that has one function in it, store that\n",
    "function in a separate file. Import the function into your main program file, and\n",
    "call the function using each of these approaches:\n",
    "\n",
    "import module_name\n",
    "\n",
    "from module_name import function_name\n",
    "\n",
    "from module_name import function_name as fn\n",
    "\n",
    "import module_name as mn\n",
    "\n",
    "from module_name import *\n"
   ]
  },
  {
   "cell_type": "code",
   "execution_count": 49,
   "metadata": {},
   "outputs": [
    {
     "name": "stdout",
     "output_type": "stream",
     "text": [
      "Thins function is call from printing_functions file.\n"
     ]
    }
   ],
   "source": [
    "import printing_functions\n",
    "pf.printing()"
   ]
  },
  {
   "cell_type": "code",
   "execution_count": 50,
   "metadata": {},
   "outputs": [
    {
     "name": "stdout",
     "output_type": "stream",
     "text": [
      "Thins function is call from printing_functions file.\n"
     ]
    }
   ],
   "source": [
    "from printing_functions import printing\n",
    "printing()"
   ]
  },
  {
   "cell_type": "code",
   "execution_count": 46,
   "metadata": {},
   "outputs": [
    {
     "name": "stdout",
     "output_type": "stream",
     "text": [
      "Thins function is call from printing_functions file.\n"
     ]
    }
   ],
   "source": [
    "from printing_functions import printing as p\n",
    "p()"
   ]
  },
  {
   "cell_type": "code",
   "execution_count": 52,
   "metadata": {},
   "outputs": [
    {
     "name": "stdout",
     "output_type": "stream",
     "text": [
      "Thins function is call from printing_functions file.\n"
     ]
    }
   ],
   "source": [
    "import printing_functions as pf\n",
    "pf.printing()"
   ]
  },
  {
   "cell_type": "code",
   "execution_count": 53,
   "metadata": {},
   "outputs": [
    {
     "name": "stdout",
     "output_type": "stream",
     "text": [
      "Thins function is call from printing_functions file.\n"
     ]
    }
   ],
   "source": [
    "from printing_functions import *\n",
    "printing()"
   ]
  },
  {
   "cell_type": "code",
   "execution_count": null,
   "metadata": {},
   "outputs": [],
   "source": []
  },
  {
   "cell_type": "code",
   "execution_count": null,
   "metadata": {},
   "outputs": [],
   "source": []
  },
  {
   "cell_type": "markdown",
   "metadata": {},
   "source": [
    "##### 8-17. Styling Functions: Choose any three programs you wrote for this chapter,\n",
    "and make sure they follow the styling guidelines described in this section."
   ]
  },
  {
   "cell_type": "code",
   "execution_count": 54,
   "metadata": {},
   "outputs": [],
   "source": [
    "#try this"
   ]
  },
  {
   "cell_type": "code",
   "execution_count": null,
   "metadata": {},
   "outputs": [],
   "source": []
  },
  {
   "cell_type": "code",
   "execution_count": null,
   "metadata": {},
   "outputs": [],
   "source": []
  }
 ],
 "metadata": {
  "kernelspec": {
   "display_name": "Python 3",
   "language": "python",
   "name": "python3"
  },
  "language_info": {
   "codemirror_mode": {
    "name": "ipython",
    "version": 3
   },
   "file_extension": ".py",
   "mimetype": "text/x-python",
   "name": "python",
   "nbconvert_exporter": "python",
   "pygments_lexer": "ipython3",
   "version": "3.8.5"
  }
 },
 "nbformat": 4,
 "nbformat_minor": 4
}
