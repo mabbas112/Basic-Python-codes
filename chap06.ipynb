{
 "cells": [
  {
   "cell_type": "markdown",
   "metadata": {},
   "source": [
    "##### 6-1. Person: Use a dictionary to store information about a person you know.\n",
    "Store their first name, last name, age, and the city in which they live. You\n",
    "should have keys such as first_name, last_name, age, and city. Print each\n",
    "piece of information stored in your dictionary.\n"
   ]
  },
  {
   "cell_type": "code",
   "execution_count": 17,
   "metadata": {},
   "outputs": [
    {
     "name": "stdout",
     "output_type": "stream",
     "text": [
      "Muhammad\n",
      "Abbas\n",
      "2\n",
      "Lahore\n"
     ]
    }
   ],
   "source": [
    "personInfo = {\n",
    "    'first_name':'Muhammad',\n",
    "    'last_name': 'Abbas',\n",
    "    'age': 2 ,  'city':'Lahore'\n",
    "}\n",
    "print(personInfo['first_name'])\n",
    "print(personInfo['last_name'])\n",
    "print(personInfo['age'])\n",
    "print(personInfo['city'])"
   ]
  },
  {
   "cell_type": "markdown",
   "metadata": {},
   "source": [
    "##### 6-2. Favorite Numbers: Use a dictionary to store people’s favorite numbers.\n",
    "Think of five names, and use them as keys in your dictionary. Think of a favorite\n",
    "number for each person, and store each as a value in your dictionary. Print\n",
    "each person’s name and their favorite number. For even more fun, poll a few\n",
    "friends and get some actual data for your program.\n"
   ]
  },
  {
   "cell_type": "code",
   "execution_count": 18,
   "metadata": {},
   "outputs": [
    {
     "name": "stdout",
     "output_type": "stream",
     "text": [
      "faisel: 4\n",
      "ahsan: 6\n",
      "ali: 2\n",
      "abbas: 7\n",
      "sami: 9\n"
     ]
    }
   ],
   "source": [
    "fav_numbers= {'faisel':4 , 'ahsan':6 ,'ali':2 , 'abbas':7 , 'sami':9}\n",
    "for i in fav_numbers:\n",
    "    print(i + ': ' +str(fav_numbers[i]))"
   ]
  },
  {
   "cell_type": "markdown",
   "metadata": {},
   "source": [
    "##### 6-3. Glossary: A Python dictionary can be used to model an actual dictionary.\n",
    "However, to avoid confusion, let’s call it a glossary.\n",
    "• Think of five programming words you’ve learned about in the previous\n",
    "chapters. Use these words as the keys in your glossary, and store their\n",
    "meanings as values.\n",
    "• Print each word and its meaning as neatly formatted output. You might\n",
    "print the word followed by a colon and then its meaning, or print the word\n",
    "on one line and then print its meaning indented on a second line. Use the\n",
    "newline character (\\n) to insert a blank line between each word-meaning\n",
    "pair in your output.##### "
   ]
  },
  {
   "cell_type": "code",
   "execution_count": 23,
   "metadata": {},
   "outputs": [
    {
     "name": "stdout",
     "output_type": "stream",
     "text": [
      "for:\n",
      "        Loop\n",
      "\n",
      "\n",
      "List:\n",
      "        Data Structure\n",
      "\n",
      "\n",
      "if:\n",
      "        Condition\n",
      "\n",
      "\n",
      "Tuple:\n",
      "        Data structure\n",
      "\n",
      "\n",
      "return:\n",
      "        Function return something\n",
      "\n",
      "\n"
     ]
    }
   ],
   "source": [
    "glossary = {'for': 'Loop', 'List': 'Data Structure', 'if': 'Condition', 'Tuple': 'Data structure' ,\n",
    "            'return': 'Function return something'}\n",
    "for word in glossary:\n",
    "    print( word + ':\\n        '+ glossary[word])\n",
    "    print('\\n')"
   ]
  },
  {
   "cell_type": "markdown",
   "metadata": {},
   "source": [
    "##### 6-4. Glossary 2: Now that you know how to loop through a dictionary, clean\n",
    "up the code from Exercise 6-3 (page 102) by replacing your series of print\n",
    "statements with a loop that runs through the dictionary’s keys and values.\n",
    "When you’re sure that your loop works, add five more Python terms to your\n",
    "glossary. When you run your program again, these new words and meanings\n",
    "should automatically be included in the output.\n"
   ]
  },
  {
   "cell_type": "code",
   "execution_count": 1,
   "metadata": {},
   "outputs": [
    {
     "name": "stdout",
     "output_type": "stream",
     "text": [
      "for:        Loop\n",
      "List:        Data Structure\n",
      "if:        Condition\n",
      "Tuple:        Data structure\n",
      "return:        Function return something\n",
      "range:        Numbers start to end\n",
      "else:        condition\n",
      " while:        Loop\n",
      "elif:        else-if\n"
     ]
    }
   ],
   "source": [
    "glossary = {'for': 'Loop', 'List': 'Data Structure', 'if': 'Condition', 'Tuple': 'Data structure' ,\n",
    "            'return': 'Function return something',\n",
    "           'range': 'Numbers start to end',\n",
    "            'else' : 'condition' ,' while':'Loop','elif':'else-if' }\n",
    "for keys,values in glossary.items():\n",
    "    print( keys + ':        '+ values)\n",
    "    "
   ]
  },
  {
   "cell_type": "markdown",
   "metadata": {},
   "source": [
    "##### 6-5. Rivers: Make a dictionary containing three major rivers and the country\n",
    "each river runs through. One key-value pair might be 'nile': 'egypt'.\n",
    "• Use a loop to print a sentence about each river, such as The Nile runs\n",
    "through Egypt.\n",
    "• Use a loop to print the name of each river included in the dictionary.\n",
    "• Use a loop to print the name of each country included in the dictionary.\n"
   ]
  },
  {
   "cell_type": "code",
   "execution_count": 3,
   "metadata": {},
   "outputs": [
    {
     "name": "stdout",
     "output_type": "stream",
     "text": [
      "The Sindh runs through Pakistan.\n",
      "The nile runs through egypt.\n",
      "The Chnaab runs through Pakistan.\n"
     ]
    }
   ],
   "source": [
    "rivers = {'Sindh': 'Pakistan', 'nile': 'egypt', 'Chnaab':'Pakistan'}\n",
    "for key,value in rivers.items():\n",
    "    print('The {} runs through {}.'.format(key,value))"
   ]
  },
  {
   "cell_type": "markdown",
   "metadata": {},
   "source": [
    "##### 6-6. Polling: Use the code in favorite_languages.py (page 104).\n",
    "• Make a list of people who should take the favorite languages poll. Include\n",
    "some names that are already in the dictionary and some that are not.\n",
    "• Loop through the list of people who should take the poll. If they have\n",
    "already taken the poll, print a message thanking them for responding.\n",
    "If they have not yet taken the poll, print a message inviting them to take\n",
    "the poll."
   ]
  },
  {
   "cell_type": "code",
   "execution_count": 23,
   "metadata": {},
   "outputs": [
    {
     "name": "stdout",
     "output_type": "stream",
     "text": [
      "jen  thanking for responding\n",
      "sarah  thanking for responding\n",
      "Hadi  please respond\n",
      "hamza  please respond\n",
      "edward  thanking for responding\n",
      "phil  thanking for responding\n",
      "abbas  please respond\n",
      "ali  please respond\n"
     ]
    }
   ],
   "source": [
    "favorite_languages = {\n",
    "'jen': 'python',\n",
    "'sarah': 'c',\n",
    "'edward': 'ruby',\n",
    "'phil': 'python',\n",
    "}\n",
    "poll_participants= ['jen','sarah','Hadi','hamza', 'edward', 'phil','abbas','ali']\n",
    "\n",
    "for participant in poll_participants:\n",
    "    if participant in favorite_languages.keys():\n",
    "        print(participant + '  thanking for responding')\n",
    "    else:\n",
    "        print(participant + '  please respond') \n",
    "  "
   ]
  },
  {
   "cell_type": "markdown",
   "metadata": {},
   "source": [
    "##### 6-7. People: Start with the program you wrote for Exercise 6-1 (page 102).\n",
    "Make two new dictionaries representing different people, and store all three\n",
    "dictionaries in a list called people. Loop through your list of people. As you\n",
    "loop through the list, print everything you know about each person"
   ]
  },
  {
   "cell_type": "code",
   "execution_count": 32,
   "metadata": {},
   "outputs": [
    {
     "name": "stdout",
     "output_type": "stream",
     "text": [
      "{'first_name': 'Muhammad', 'last_name': 'Abbas', 'age': 22, 'city': 'Lahore'}\n",
      "{'first_name': 'Ali', 'last_name': 'Haider', 'age': 8, 'city': 'Islamabad'}\n",
      "{'first_name': 'Sami', 'last_name': 'Ullah', 'age': 17, 'city': 'Rawalpindi'}\n"
     ]
    }
   ],
   "source": [
    "person1 = {\n",
    "    'first_name':'Muhammad',\n",
    "    'last_name': 'Abbas',\n",
    "    'age': 22 ,  'city':'Lahore'\n",
    "}\n",
    "person2 = {\n",
    "    'first_name':'Ali',\n",
    "    'last_name': 'Haider',\n",
    "    'age': 8 ,  'city':'Islamabad'\n",
    "}\n",
    "person3 = {\n",
    "    'first_name':'Sami',\n",
    "    'last_name': 'Ullah',\n",
    "    'age': 17 ,  'city':'Rawalpindi'\n",
    "}\n",
    "\n",
    "people = [person1,person2,person3]\n",
    "\n",
    "for person in people:\n",
    "    print(person)"
   ]
  },
  {
   "cell_type": "markdown",
   "metadata": {},
   "source": [
    "##### 6-8. Pets: Make several dictionaries, where the name of each dictionary is the\n",
    "name of a pet. In each dictionary, include the kind of animal and the owner’s\n",
    "name. Store these dictionaries in a list called pets. Next, loop through your list\n",
    "and as you do print everything you know about each pet.\n"
   ]
  },
  {
   "cell_type": "code",
   "execution_count": 36,
   "metadata": {},
   "outputs": [
    {
     "name": "stdout",
     "output_type": "stream",
     "text": [
      "Pet   -->Owner-->   John\n",
      "Pet   -->Owner-->   Phil\n",
      "Forest   -->Owner-->   Tim\n",
      "Pet   -->Owner-->   Gamma\n",
      "Pet   -->Owner-->   Jack\n"
     ]
    }
   ],
   "source": [
    "dog = {'Kind':'Pet' , 'Owner': 'John' }\n",
    "cat = {'Kind':'Pet' , 'Owner': 'Phil' }\n",
    "Lion = {'Kind':'Forest' , 'Owner': 'Tim' }\n",
    "Cow = {'Kind':'Pet' , 'Owner': 'Gamma' }\n",
    "Sheep = {'Kind':'Pet' , 'Owner': 'Jack' }\n",
    "pets = [dog,cat,Lion,Cow,Sheep]\n",
    "for pet in pets:\n",
    "    print(pet['Kind']+ '   -->Owner-->   '+ pet['Owner'])"
   ]
  },
  {
   "cell_type": "markdown",
   "metadata": {},
   "source": [
    "##### 6-9. Favorite Places: Make a dictionary called favorite_places. Think of three\n",
    "names to use as keys in the dictionary, and store one to three favorite places\n",
    "for each person. To make this exercise a bit more interesting, ask some friends\n",
    "to name a few of their favorite places. Loop through the dictionary, and print\n",
    "each person’s name and their favorite places.\n"
   ]
  },
  {
   "cell_type": "code",
   "execution_count": 50,
   "metadata": {},
   "outputs": [
    {
     "name": "stdout",
     "output_type": "stream",
     "text": [
      "ALi:  Naran, Kagan, Kumrat Velly, \n",
      "Hadi:  Nathiya Gali, Neelum Velly, Khunjrab Pass, \n",
      "Akber:  Lahore, Berlin, NYC, \n"
     ]
    }
   ],
   "source": [
    "favorite_places = {\n",
    "    'ALi': ['Naran','Kagan','Kumrat Velly'],\n",
    "    'Hadi': ['Nathiya Gali','Neelum Velly','Khunjrab Pass'],\n",
    "    'Akber':['Lahore','Berlin','NYC']\n",
    "}\n",
    "for person,places in favorite_places.items():\n",
    "    print(person+': ',end=' ')\n",
    "    for place in places:\n",
    "        print(place+',',end=' ')\n",
    "    print()"
   ]
  },
  {
   "cell_type": "markdown",
   "metadata": {},
   "source": [
    "##### 6-10. Favorite Numbers: Modify your program from Exercise 6-2 (page 102) so\n",
    "each person can have more than one favorite number. Then print each person’s\n",
    "name along with their favorite numbers.\n"
   ]
  },
  {
   "cell_type": "code",
   "execution_count": 3,
   "metadata": {},
   "outputs": [
    {
     "name": "stdout",
     "output_type": "stream",
     "text": [
      "faisel:  4, 5, \n",
      "ahsan:  6, 2, \n",
      "ali:  0, 2, \n",
      "abbas:  9, 7, \n",
      "sami:  3, 9, \n"
     ]
    }
   ],
   "source": [
    "fav_numbers= {'faisel':[4,5] , 'ahsan':[6,2] ,'ali':[0,2] , 'abbas':[9,7] , 'sami':[3,9]}\n",
    "for name,numbers in fav_numbers.items():\n",
    "    print(name + ': ',end=' ')\n",
    "    for i in numbers:\n",
    "        print(str(i)+',',end=' ')\n",
    "    print()\n",
    "    "
   ]
  },
  {
   "cell_type": "markdown",
   "metadata": {},
   "source": [
    "##### 6-11. Cities: Make a dictionary called cities. Use the names of three cities as\n",
    "keys in your dictionary. Create a dictionary of information about each city and\n",
    "include the country that the city is in, its approximate population, and one fact\n",
    "about that city. The keys for each city’s dictionary should be something like\n",
    "country, population, and fact. Print the name of each city and all of the information\n",
    "you have stored about it.##### "
   ]
  },
  {
   "cell_type": "code",
   "execution_count": 13,
   "metadata": {},
   "outputs": [
    {
     "name": "stdout",
     "output_type": "stream",
     "text": [
      "Lahore: \n",
      "Country-->  pakistan\n",
      "population-->  20000000\n",
      "Fact-->  Cultural\n",
      "\n",
      "Berlin: \n",
      "Country-->  Germany\n",
      "population-->  30000000\n",
      "Fact-->  Study\n",
      "\n",
      "Islamabad: \n",
      "Country-->  pakistan\n",
      "population-->  40000000\n",
      "Fact-->  Beautiful\n",
      "\n"
     ]
    }
   ],
   "source": [
    "cities = {\n",
    "    'Lahore':{ 'Country':'pakistan', 'population':20000000 ,'Fact':'Cultural' },\n",
    "    'Berlin':{'Country':'Germany', 'population':30000000 , 'Fact':'Study'},\n",
    "    'Islamabad':{'Country':'pakistan', 'population':40000000, 'Fact':'Beautiful'}\n",
    "}\n",
    "for city,info in cities.items():\n",
    "    print(city+': ',end='\\n')\n",
    "    for key,value in info.items():\n",
    "        print(key+'-->  ' +str(value))\n",
    "    print()"
   ]
  },
  {
   "cell_type": "markdown",
   "metadata": {},
   "source": [
    "##### 6-12. Extensions: We’re now working with examples that are complex enough\n",
    "that they can be extended in any number of ways. Use one of the example programs\n",
    "from this chapter, and extend it by adding new keys and values, changing\n",
    "the context of the program or improving the formatting of the output."
   ]
  },
  {
   "cell_type": "code",
   "execution_count": 15,
   "metadata": {},
   "outputs": [],
   "source": [
    "#Home task xD"
   ]
  },
  {
   "cell_type": "code",
   "execution_count": null,
   "metadata": {},
   "outputs": [],
   "source": []
  }
 ],
 "metadata": {
  "kernelspec": {
   "display_name": "Python 3",
   "language": "python",
   "name": "python3"
  },
  "language_info": {
   "codemirror_mode": {
    "name": "ipython",
    "version": 3
   },
   "file_extension": ".py",
   "mimetype": "text/x-python",
   "name": "python",
   "nbconvert_exporter": "python",
   "pygments_lexer": "ipython3",
   "version": "3.8.5"
  }
 },
 "nbformat": 4,
 "nbformat_minor": 4
}
