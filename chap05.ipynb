{
 "cells": [
  {
   "cell_type": "markdown",
   "metadata": {},
   "source": [
    "##### 5-1. Conditional Tests: Write a series of conditional tests. Print a statement\n",
    "describing each test and your prediction for the results of each test. Your code\n",
    "should look something like this:\n",
    "car = 'subaru'\n",
    "print(\"Is car == 'subaru'? I predict True.\")\n",
    "print(car == 'subaru')\n",
    "print(\"\\nIs car == 'audi'? I predict False.\")\n",
    "print(car == 'audi')\n",
    "• Look closely at your results, and make sure you understand why each line\n",
    "evaluates to True or False.\n",
    "• Create at least 10 tests. Have at least 5 tests evaluate to True and another\n",
    "5 tests evaluate to False."
   ]
  },
  {
   "cell_type": "code",
   "execution_count": 3,
   "metadata": {},
   "outputs": [
    {
     "name": "stdout",
     "output_type": "stream",
     "text": [
      "Is car == 'subaru'? I predict True.\n",
      "True\n",
      "\n",
      "Is car == 'audi'? I predict False.\n",
      "False\n",
      "Is age == 23? I predict True.\n",
      "True\n",
      "Is age == 24? I predict False.\n",
      "False\n"
     ]
    }
   ],
   "source": [
    "car = 'subaru'\n",
    "age= 23\n",
    "gender='M'\n",
    "cgpa=2.7\n",
    "print(\"Is car == 'subaru'? I predict True.\")\n",
    "print(car == 'subaru')\n",
    "print(\"\\nIs car == 'audi'? I predict False.\")\n",
    "print(car == 'audi')\n",
    "print(\"Is age == 23? I predict True.\")\n",
    "print(age == 23)\n",
    "print(\"Is age == 24? I predict False.\")\n",
    "print(age == 24)\n",
    "\n",
    "#etc something like this you can make"
   ]
  },
  {
   "cell_type": "markdown",
   "metadata": {},
   "source": [
    "##### 5-2. More Conditional Tests: You don’t have to limit the number of tests you\n",
    "create to 10. If you want to try more comparisons, write more tests and add\n",
    "them to conditional_tests.py. Have at least one True and one False result for\n",
    "each of the following:\n",
    "• Tests for equality and inequality with strings\n",
    "• Tests using the lower() function\n",
    "• Numerical tests involving equality and inequality, greater than and\n",
    "less than, greater than or equal to, and less than or equal to\n",
    "• Tests using the and keyword and the or keyword\n",
    "• Test whether an item is in a list\n",
    "• Test whether an item is not in a list"
   ]
  },
  {
   "cell_type": "code",
   "execution_count": 4,
   "metadata": {},
   "outputs": [
    {
     "name": "stdout",
     "output_type": "stream",
     "text": [
      "True\n",
      "False\n",
      "\n",
      "False\n",
      "True\n",
      "\n",
      "True\n",
      "False\n",
      "False\n",
      "False\n",
      "True\n",
      "True\n",
      "\n",
      "True\n",
      "False\n",
      "False\n",
      "True\n"
     ]
    }
   ],
   "source": [
    "str= 'equality'\n",
    "print(str=='equality')\n",
    "print(str=='equalityy')\n",
    "print()\n",
    "\n",
    "strCapital= 'capital'\n",
    "print(strCapital== 'Capital')\n",
    "print(strCapital== strCapital.lower() )\n",
    "print()\n",
    "\n",
    "num= 4\n",
    "print(num==4)\n",
    "print(num!=4)\n",
    "print(num>4)\n",
    "print(num<4)\n",
    "print(num>=4)\n",
    "print(num<=4)\n",
    "print()\n",
    "\n",
    "lstItems= [3,2,4,5]\n",
    "print(3 in lstItems)\n",
    "print(7 in lstItems)\n",
    "print(3 in lstItems and 8 in lstItems)\n",
    "print(3 in lstItems or 4 in lstItems)"
   ]
  },
  {
   "cell_type": "markdown",
   "metadata": {},
   "source": [
    "##### 5-3. Alien Colors #1: Imagine an alien was just shot down in a game. Create a\n",
    "variable called alien_color and assign it a value of 'green', 'yellow', or 'red'.\n",
    "• Write an if statement to test whether the alien’s color is green. If it is, print\n",
    "a message that the player just earned 5 points.\n",
    "• Write one version of this program that passes the if test and another that\n",
    "fails. (The version that fails will have no output."
   ]
  },
  {
   "cell_type": "code",
   "execution_count": 5,
   "metadata": {},
   "outputs": [
    {
     "name": "stdout",
     "output_type": "stream",
     "text": [
      "You have earned 5 points\n"
     ]
    }
   ],
   "source": [
    "alien_color = 'green'\n",
    "\n",
    "if alien_color=='green':\n",
    "    print('You have earned 5 points')\n",
    "if alien_color=='yellow':\n",
    "    print()\n",
    "    "
   ]
  },
  {
   "cell_type": "markdown",
   "metadata": {},
   "source": [
    "##### 5-4. Alien Colors #2: Choose a color for an alien as you did in Exercise 5-3, and\n",
    "write an if-else chain.\n",
    "• If the alien’s color is green, print a statement that the player just earned\n",
    "5 points for shooting the alien.\n",
    "• If the alien’s color isn’t green, print a statement that the player just earned\n",
    "10 points.\n",
    "• Write one version of this program that runs the if block and another that\n",
    "runs the else block."
   ]
  },
  {
   "cell_type": "code",
   "execution_count": 6,
   "metadata": {},
   "outputs": [
    {
     "name": "stdout",
     "output_type": "stream",
     "text": [
      "You earned 5 points\n",
      "\n",
      "You earned 10 points\n"
     ]
    }
   ],
   "source": [
    "if alien_color=='green':\n",
    "    print('You earned 5 points')\n",
    "else:\n",
    "    print('You earned 10 points')\n",
    "\n",
    "print()\n",
    "alien_color='yellow'\n",
    "if alien_color=='green':\n",
    "    print('You earned 5 points')\n",
    "else:\n",
    "    print('You earned 10 points')"
   ]
  },
  {
   "cell_type": "markdown",
   "metadata": {},
   "source": [
    "##### 5-5. Alien Colors #3: Turn your if-else chain from Exercise 5-4 into an if-elifelse\n",
    "chain.\n",
    "• If the alien is green, print a message that the player earned 5 points.\n",
    "• If the alien is yellow, print a message that the player earned 10 points.\n",
    "• If the alien is red, print a message that the player earned 15 points.\n",
    "• Write three versions of this program, making sure each message is printed\n",
    "for the appropriate color alien."
   ]
  },
  {
   "cell_type": "code",
   "execution_count": 7,
   "metadata": {},
   "outputs": [
    {
     "name": "stdout",
     "output_type": "stream",
     "text": [
      "You earned 5 points\n",
      "You earned 10 points\n",
      "You earned 15 points\n"
     ]
    }
   ],
   "source": [
    "alien_color='green'\n",
    "if alien_color=='green':\n",
    "    print('You earned 5 points')\n",
    "elif alien_color=='yellow':\n",
    "    print('You earned 10 points')\n",
    "else:\n",
    "    print('You earned 15 points')\n",
    "\n",
    "alien_color = 'yellow'\n",
    "if alien_color=='green':\n",
    "    print('You earned 5 points')\n",
    "elif alien_color=='yellow':\n",
    "    print('You earned 10 points')\n",
    "else:\n",
    "    print('You earned 15 points')\n",
    "    \n",
    "alien_color='red'\n",
    "if alien_color=='green':\n",
    "    print('You earned 5 points')\n",
    "elif alien_color=='yellow':\n",
    "    print('You earned 10 points')\n",
    "else:\n",
    "    print('You earned 15 points')"
   ]
  },
  {
   "cell_type": "markdown",
   "metadata": {},
   "source": [
    "###### 5-6. Stages of Life: Write an if-elif-else chain that determines a person’s\n",
    "stage of life. Set a value for the variable age, and then:\n",
    "• If the person is less than 2 years old, print a message that the person is\n",
    "a baby.\n",
    "• If the person is at least 2 years old but less than 4, print a message that\n",
    "the person is a toddler.\n",
    "• If the person is at least 4 years old but less than 13, print a message that\n",
    "the person is a kid.\n",
    "• If the person is at least 13 years old but less than 20, print a message that\n",
    "the person is a teenager.\n",
    "• If the person is at least 20 years old but less than 65, print a message that\n",
    "the person is an adult.\n",
    "• If the person is age 65 or older, print a message that the person is an\n",
    "elder."
   ]
  },
  {
   "cell_type": "code",
   "execution_count": 8,
   "metadata": {},
   "outputs": [
    {
     "name": "stdout",
     "output_type": "stream",
     "text": [
      "Adult\n"
     ]
    }
   ],
   "source": [
    "age = 40\n",
    "\n",
    "if age< 2:\n",
    "    print('Baby')\n",
    "elif(age >=2 and age <4):\n",
    "    print('Toddler')\n",
    "elif(age >=4 and age < 13):\n",
    "    print('Kid')\n",
    "elif(age >=13 and age < 20):\n",
    "    print('Teenager')\n",
    "elif(age >=20 and age < 65):\n",
    "    print('Adult')\n",
    "else:\n",
    "    print('Elder')"
   ]
  },
  {
   "cell_type": "markdown",
   "metadata": {},
   "source": [
    "###### 5-7. Favorite Fruit: Make a list of your favorite fruits, and then write a series of\n",
    "independent if statements that check for certain fruits in your list.\n",
    "• Make a list of your three favorite fruits and call it favorite_fruits.\n",
    "• Write five if statements. Each should check whether a certain kind of fruit\n",
    "is in your list. If the fruit is in your list, the if block should print a statement,\n",
    "such as You really like bananas!"
   ]
  },
  {
   "cell_type": "code",
   "execution_count": 9,
   "metadata": {},
   "outputs": [
    {
     "name": "stdout",
     "output_type": "stream",
     "text": [
      "You really like Water-melon\n",
      "You really like Mango\n",
      "You really like Apricot\n",
      "You really like Peach\n",
      "You really like Grapes\n"
     ]
    }
   ],
   "source": [
    "fruitList= ['Water-melon','Mango','Grapes','Peach','Apricot']\n",
    "if 'Water-melon' in fruitList:\n",
    "    print('You really like Water-melon')\n",
    "if 'Mango' in fruitList:\n",
    "    print('You really like Mango')\n",
    "if 'Apricot' in fruitList:\n",
    "    print('You really like Apricot')\n",
    "if 'Peach' in fruitList:\n",
    "    print('You really like Peach')\n",
    "if 'Grapes' in fruitList:\n",
    "    print('You really like Grapes')"
   ]
  },
  {
   "cell_type": "markdown",
   "metadata": {},
   "source": [
    "##### 5-8. Hello Admin: Make a list of five or more usernames, including the name\n",
    "'admin'. Imagine you are writing code that will print a greeting to each user\n",
    "after they log in to a website. Loop through the list, and print a greeting to\n",
    "each user:\n",
    "• If the username is 'admin', print a special greeting, such as Hello admin,\n",
    "would you like to see a status report?\n",
    "• Otherwise, print a generic greeting, such as Hello Eric, thank you for logging\n",
    "in again."
   ]
  },
  {
   "cell_type": "code",
   "execution_count": 10,
   "metadata": {},
   "outputs": [
    {
     "name": "stdout",
     "output_type": "stream",
     "text": [
      "Hello mabbas,thank you for logging in again\n",
      "Hello ali,thank you for logging in again\n",
      "Hello skander123,thank you for logging in again\n",
      "Hello random7,thank you for logging in again\n",
      "\n",
      "Hello admin,would you to see the status report\n",
      "\n"
     ]
    }
   ],
   "source": [
    "usernames=[ 'mabbas','ali','skander123','random7','admin']\n",
    "for user in usernames:\n",
    "    if user =='admin':\n",
    "        print()\n",
    "        print('Hello '+user+',would you to see the status report')\n",
    "        print()\n",
    "    else:\n",
    "        print('Hello '+user+',thank you for logging in again')"
   ]
  },
  {
   "cell_type": "markdown",
   "metadata": {},
   "source": [
    "##### 5-9. No Users: Add an if test to hello_admin.py to make sure the list of users is\n",
    "not empty.\n",
    "• If the list is empty, print the message We need to find some users!\n",
    "• Remove all of the usernames from your list, and make sure the correct\n",
    "message is printed."
   ]
  },
  {
   "cell_type": "code",
   "execution_count": 11,
   "metadata": {},
   "outputs": [
    {
     "name": "stdout",
     "output_type": "stream",
     "text": [
      "We need to find some users!\n"
     ]
    }
   ],
   "source": [
    "usernames=[]\n",
    "if usernames:\n",
    "        print()\n",
    "else:\n",
    "    print('We need to find some users!')\n",
    "    "
   ]
  },
  {
   "cell_type": "markdown",
   "metadata": {},
   "source": [
    "###### 5-10. Checking Usernames: Do the following to create a program that simulates\n",
    "how websites ensure that everyone has a unique username.\n",
    "• Make a list of five or more usernames called current_users.\n",
    "• Make another list of five usernames called new_users. Make sure one or\n",
    "two of the new usernames are also in the current_users list.\n",
    "• Loop through the new_users list to see if each new username has already\n",
    "been used. If it has, print a message that the person will need to enter a\n",
    "new username. If a username has not been used, print a message saying\n",
    "that the username is available.\n",
    "• Make sure your comparison is case insensitive. If 'John' has been used,\n",
    "'JOHN' should not be accepted."
   ]
  },
  {
   "cell_type": "code",
   "execution_count": 12,
   "metadata": {},
   "outputs": [
    {
     "name": "stdout",
     "output_type": "stream",
     "text": [
      "Username is available\n",
      "The person will need to enter a new username\n",
      "Username is available\n",
      "Username is available\n",
      "The person will need to enter a new username\n"
     ]
    }
   ],
   "source": [
    "current_users = ['mabbas','Ali','Skander123','random7','admin']\n",
    "new_users = [ 'haider','ali','aqib98','adil23','Admin']\n",
    "for new in new_users:\n",
    "    for cur in current_users:\n",
    "        if new.lower() == cur.lower():\n",
    "            print('The person will need to enter a new username')\n",
    "            break\n",
    "    else:\n",
    "        print('Username is available')\n",
    "        "
   ]
  },
  {
   "cell_type": "markdown",
   "metadata": {},
   "source": [
    "##### 5-11. Ordinal Numbers: Ordinal numbers indicate their position in a list, such\n",
    "as 1st or 2nd. Most ordinal numbers end in th, except 1, 2, and 3.\n",
    "• Store the numbers 1 through 9 in a list.\n",
    "• Loop through the list.\n",
    "• Use an if-elif-else chain inside the loop to print the proper ordinal ending\n",
    "for each number. Your output should read \"1st 2nd 3rd 4th 5th 6th\n",
    "7th 8th 9th\", and each result should be on a separate line."
   ]
  },
  {
   "cell_type": "code",
   "execution_count": 1,
   "metadata": {},
   "outputs": [
    {
     "name": "stdout",
     "output_type": "stream",
     "text": [
      "1st\n",
      "2nd\n",
      "3rd\n",
      "4th\n",
      "5th\n",
      "6th\n",
      "7th\n",
      "8th\n",
      "9th\n"
     ]
    }
   ],
   "source": [
    "ordinalList = [1,2,3,4,5,6,7,8,9]\n",
    "for ordinal in ordinalList:\n",
    "    if ordinal == 1:\n",
    "        print( str(ordinal) +'st')\n",
    "    elif ordinal == 2:\n",
    "        print( str(ordinal)+'nd')\n",
    "    elif ordinal ==3:\n",
    "        print(str(ordinal)+'rd')\n",
    "    else:\n",
    "        print(str(ordinal)+'th')\n",
    "    "
   ]
  },
  {
   "cell_type": "code",
   "execution_count": null,
   "metadata": {},
   "outputs": [],
   "source": []
  },
  {
   "cell_type": "code",
   "execution_count": null,
   "metadata": {},
   "outputs": [],
   "source": []
  },
  {
   "cell_type": "code",
   "execution_count": null,
   "metadata": {},
   "outputs": [],
   "source": []
  }
 ],
 "metadata": {
  "kernelspec": {
   "display_name": "Python 3",
   "language": "python",
   "name": "python3"
  },
  "language_info": {
   "codemirror_mode": {
    "name": "ipython",
    "version": 3
   },
   "file_extension": ".py",
   "mimetype": "text/x-python",
   "name": "python",
   "nbconvert_exporter": "python",
   "pygments_lexer": "ipython3",
   "version": "3.8.5"
  }
 },
 "nbformat": 4,
 "nbformat_minor": 4
}
