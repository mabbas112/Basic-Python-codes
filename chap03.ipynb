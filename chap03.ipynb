{
 "cells": [
  {
   "cell_type": "markdown",
   "metadata": {},
   "source": [
    "##### Names: Store the names of a few of your friends in a list called names. Print each person’s name by accessing each element in the list, one at a time."
   ]
  },
  {
   "cell_type": "code",
   "execution_count": 1,
   "metadata": {},
   "outputs": [
    {
     "name": "stdout",
     "output_type": "stream",
     "text": [
      "ali\n",
      "haider\n",
      "abbas\n",
      "hadi\n"
     ]
    }
   ],
   "source": [
    "names= ['ali','haider','abbas','hadi']\n",
    "for i in range(0,4):\n",
    "    print(names[i])"
   ]
  },
  {
   "cell_type": "markdown",
   "metadata": {},
   "source": [
    "##### 3-2. Greetings: Start with the list you used in Exercise 3-1, but instead of just printing each person’s name, print a message to them. The text of each message should be the same, but each message should be personalized with the person’s name."
   ]
  },
  {
   "cell_type": "code",
   "execution_count": 4,
   "metadata": {},
   "outputs": [
    {
     "name": "stdout",
     "output_type": "stream",
     "text": [
      "Aoa, Mr ali\n",
      "Aoa, Mr haider\n",
      "Aoa, Mr abbas\n",
      "Aoa, Mr hadi\n"
     ]
    }
   ],
   "source": [
    "for i in range(0,4):\n",
    "    msg=\"Aoa, Mr \"+ names[i]\n",
    "    print(msg)"
   ]
  },
  {
   "cell_type": "markdown",
   "metadata": {},
   "source": [
    "##### 3-3. Your Own List: Think of your favorite mode of transportation, such as a motorcycle or a car, and make a list that stores several examples. Use your list to print a series of statements about these items, such as “I would like to own a Honda motorcycle.”"
   ]
  },
  {
   "cell_type": "code",
   "execution_count": 6,
   "metadata": {},
   "outputs": [
    {
     "name": "stdout",
     "output_type": "stream",
     "text": [
      "i would to like to buy this car\n",
      "this car have several features\n",
      "Her seats are comfortable and relaxing\n"
     ]
    }
   ],
   "source": [
    "car = ['i would to like to buy this car','this car have several features','Her seats are comfortable and relaxing']\n",
    "print(car[0])\n",
    "print(car[1])\n",
    "print(car[2])"
   ]
  },
  {
   "cell_type": "markdown",
   "metadata": {},
   "source": [
    "##### 3-4. Guest List: If you could invite anyone, living or deceased, to dinner, who would you invite? Make a list that includes at least three people you’d like to invite to dinner. Then use your list to print a message to each person, inviting them to dinner."
   ]
  },
  {
   "cell_type": "code",
   "execution_count": 10,
   "metadata": {},
   "outputs": [
    {
     "name": "stdout",
     "output_type": "stream",
     "text": [
      "I would like to invite you Mr.ahmed for dinner.If you will come its honour for me.\n",
      "I would like to invite you Mr.umer for dinner.If you will come its honour for me.\n",
      "I would like to invite you Mr.anjum for dinner.If you will come its honour for me.\n"
     ]
    }
   ],
   "source": [
    "dinnerGuest= ['ahmed','umer','anjum']\n",
    "for i in dinnerGuest:\n",
    "    msg = 'I would like to invite you Mr.'+i+' for dinner.If you will come its honour for me.'\n",
    "    print(msg)"
   ]
  },
  {
   "cell_type": "markdown",
   "metadata": {},
   "source": [
    "##### 3-5. Changing Guest List: You just heard that one of your guests can’t make the\n",
    "dinner, so you need to send out a new set of invitations. You’ll have to think of\n",
    "someone else to invite.\n",
    "\n",
    "• Start with your program from Exercise 3-4. Add a print statement at the\n",
    "end of your program stating the name of the guest who can’t make it.\n",
    "• Modify your list, replacing the name of the guest who can’t make it with\n",
    "the name of the new person you are inviting.\n",
    "• Print a second set of invitation messages, one for each person who is still\n",
    "in your list."
   ]
  },
  {
   "cell_type": "code",
   "execution_count": 11,
   "metadata": {},
   "outputs": [
    {
     "name": "stdout",
     "output_type": "stream",
     "text": [
      " Mr.umer will not come for dinner due to emergency.\n",
      "I would like to invite you Mr.ahmed for dinner.If you will come its honour for me.\n",
      "I would like to invite you Mr.sami for dinner.If you will come its honour for me.\n",
      "I would like to invite you Mr.anjum for dinner.If you will come its honour for me.\n"
     ]
    }
   ],
   "source": [
    " msg = ' Mr.'+dinnerGuest[1]+' will not come for dinner due to emergency.'\n",
    "print(msg)\n",
    "del dinnerGuest[1]\n",
    "dinnerGuest.insert(1,'sami')\n",
    "for i in dinnerGuest:\n",
    "    msg = 'I would like to invite you Mr.'+i+' for dinner.If you will come its honour for me.'\n",
    "    print(msg)"
   ]
  },
  {
   "cell_type": "markdown",
   "metadata": {},
   "source": [
    "##### 3-6. More Guests: You just found a bigger dinner table, so now more space is\n",
    "available. Think of three more guests to invite to dinner.\n",
    "• Start with your program from Exercise 3-4 or Exercise 3-5. Add a print\n",
    "statement to the end of your program informing people that you found a\n",
    "bigger dinner table.\n",
    "• Use insert() to add one new guest to the beginning of your list.\n",
    "• Use insert() to add one new guest to the middle of your list.\n",
    "• Use append() to add one new guest to the end of your list.\n",
    "• Print a new set of invitation messages, one for each person in your list."
   ]
  },
  {
   "cell_type": "code",
   "execution_count": 12,
   "metadata": {},
   "outputs": [
    {
     "name": "stdout",
     "output_type": "stream",
     "text": [
      "I would like to invite you    Mr.Akber    for dinner.If you will come its honour for me.\n",
      "I would like to invite you    Mr.Ahmed    for dinner.If you will come its honour for me.\n",
      "I would like to invite you    Mr.Ali    for dinner.If you will come its honour for me.\n",
      "I would like to invite you    Mr.Sami    for dinner.If you will come its honour for me.\n",
      "I would like to invite you    Mr.Anjum    for dinner.If you will come its honour for me.\n",
      "I would like to invite you    Mr.Ahad    for dinner.If you will come its honour for me.\n"
     ]
    }
   ],
   "source": [
    "dinnerGuest.insert(0,'Akber')\n",
    "dinnerGuest.insert(2,'ALi')\n",
    "dinnerGuest.append('Ahad')\n",
    "for i in dinnerGuest:\n",
    "    msg = 'I would like to invite you    Mr.'+i.title()+'    for dinner.If you will come its honour for me.'\n",
    "    print(msg)"
   ]
  },
  {
   "cell_type": "markdown",
   "metadata": {},
   "source": [
    "##### Shrinking Guest List: You just found out that your new dinner table won’t\n",
    "arrive in time for the dinner, and you have space for only two guests.\n",
    "• Start with your program from Exercise 3-6. Add a new line that prints a\n",
    "message saying that you can invite only two people for dinner.\n",
    "• Use pop() to remove guests from your list one at a time until only two\n",
    "names remain in your list. Each time you pop a name from your list, print\n",
    "a message to that person letting them know you’re sorry you can’t invite\n",
    "them to dinner.\n",
    "• Print a message to each of the two people still on your list, letting them\n",
    "know they’re still invited.\n",
    "• Use del to remove the last two names from your list, so you have an empty\n",
    "list. Print your list to make sure you actually have an empty list at the end\n",
    "of your program."
   ]
  },
  {
   "cell_type": "code",
   "execution_count": 13,
   "metadata": {},
   "outputs": [
    {
     "name": "stdout",
     "output_type": "stream",
     "text": [
      "I can only invite two people for dinner\n",
      "Akber\n",
      "ahmed\n"
     ]
    }
   ],
   "source": [
    "print('I can only invite two people for dinner')\n",
    "dinnerGuest.pop()\n",
    "dinnerGuest.pop()\n",
    "dinnerGuest.pop()\n",
    "dinnerGuest.pop()\n",
    "print(dinnerGuest[0])\n",
    "print(dinnerGuest[1])"
   ]
  },
  {
   "cell_type": "markdown",
   "metadata": {},
   "source": [
    "###### 3-8. Seeing the World: Think of at least five places in the world you’d like to\n",
    "visit.\n",
    "• Store the locations in a list. Make sure the list is not in alphabetical order.\n",
    "• Print your list in its original order. Don’t worry about printing the list neatly,\n",
    "just print it as a raw Python list.\n",
    "• Use sorted() to print your list in alphabetical order without modifying the\n",
    "actual list.\n",
    "• Show that your list is still in its original order by printing it.\n",
    "• Use sorted() to print your list in reverse alphabetical order without changing\n",
    "the order of the original list.\n",
    "• Show that your list is still in its original order by printing it again.\n",
    "• Use reverse() to change the order of your list. Print the list to show that its\n",
    "order has changed.\n",
    "• Use reverse() to change the order of your list again. Print the list to show\n",
    "it’s back to its original order.\n",
    "• Use sort() to change your list so it’s stored in alphabetical order. Print the\n",
    "list to show that its order has been changed.\n",
    "• Use sort() to change your list so it’s stored in reverse alphabetical order.\n",
    "Print the list to show that its order has changed."
   ]
  },
  {
   "cell_type": "code",
   "execution_count": 14,
   "metadata": {},
   "outputs": [
    {
     "name": "stdout",
     "output_type": "stream",
     "text": [
      "['Makkah', 'Madina', 'Turkey', 'Germany', 'San Francisco']\n",
      "['Germany', 'Madina', 'Makkah', 'San Francisco', 'Turkey']\n",
      "['Makkah', 'Madina', 'Turkey', 'Germany', 'San Francisco']\n",
      "['Turkey', 'San Francisco', 'Makkah', 'Madina', 'Germany']\n",
      "['Makkah', 'Madina', 'Turkey', 'Germany', 'San Francisco']\n",
      "['San Francisco', 'Germany', 'Turkey', 'Madina', 'Makkah']\n",
      "['Makkah', 'Madina', 'Turkey', 'Germany', 'San Francisco']\n",
      "['Germany', 'Madina', 'Makkah', 'San Francisco', 'Turkey']\n",
      "['Turkey', 'San Francisco', 'Makkah', 'Madina', 'Germany']\n"
     ]
    }
   ],
   "source": [
    "worldPlaces= ['Makkah','Madina','Turkey','Germany','San Francisco']\n",
    "print(worldPlaces)\n",
    "print(sorted(worldPlaces))\n",
    "print(worldPlaces)\n",
    "print(sorted(worldPlaces,reverse=True))\n",
    "print(worldPlaces)\n",
    "worldPlaces.reverse()\n",
    "print(worldPlaces)\n",
    "worldPlaces.reverse()\n",
    "print(worldPlaces)\n",
    "worldPlaces.sort()\n",
    "print(worldPlaces)\n",
    "worldPlaces.sort(reverse=True)\n",
    "print(worldPlaces)"
   ]
  },
  {
   "cell_type": "markdown",
   "metadata": {},
   "source": [
    "##### 3-9. Dinner Guests: Working with one of the programs from Exercises 3-4\n",
    "through 3-7 (page 46), use len() to print a message indicating the number\n",
    "of people you are inviting to dinner."
   ]
  },
  {
   "cell_type": "code",
   "execution_count": 18,
   "metadata": {},
   "outputs": [
    {
     "name": "stdout",
     "output_type": "stream",
     "text": [
      "I am inviting 2 member for dinner\n"
     ]
    }
   ],
   "source": [
    "msg= 'I am inviting '+ str(len(dinnerGuest)) + ' member for dinner'\n",
    "print(msg)"
   ]
  },
  {
   "cell_type": "markdown",
   "metadata": {},
   "source": [
    "##### 3-10. Every Function: Think of something you could store in a list. For example,\n",
    "you could make a list of mountains, rivers, countries, cities, languages, or anything\n",
    "else you’d like. Write a program that creates a list containing these items\n",
    "and then uses each function introduced in this chapter at least once."
   ]
  },
  {
   "cell_type": "code",
   "execution_count": 28,
   "metadata": {},
   "outputs": [
    {
     "name": "stdout",
     "output_type": "stream",
     "text": [
      "8\n",
      "['K-2', 'Mount Everest', 'Indus', 'Ravi', 'Islamabad', 'Lahore', 'Urdu', 'Punjabi', 'New Added']\n",
      "['K-2', 'Mount Everest', 'Indus', 'Ravi', 'Islamabad', 'Lahore', 'Urdu', 'Punjabi', '2nd New added', 'New Added']\n",
      "['K-2', 'Mount Everest', 'Indus', 'Ravi', 'Islamabad', 'Lahore', 'Urdu', 'Punjabi']\n",
      "['K-2', 'Mount Everest', 'Indus', 'Ravi', 'Islamabad', 'Lahore', 'Urdu']\n",
      "['Indus', 'Islamabad', 'K-2', 'Lahore', 'Mount Everest', 'Ravi', 'Urdu']\n",
      "['Urdu', 'Ravi', 'Mount Everest', 'Lahore', 'K-2', 'Islamabad', 'Indus']\n",
      "['Indus', 'Islamabad', 'K-2', 'Lahore', 'Mount Everest', 'Ravi', 'Urdu']\n",
      "['Urdu', 'Ravi', 'Mount Everest', 'Lahore', 'K-2', 'Islamabad', 'Indus']\n"
     ]
    }
   ],
   "source": [
    "randomThings = ['K-2','Mount Everest', 'Indus','Ravi','Islamabad','Lahore','Urdu', 'Punjabi']\n",
    "print(len(randomThings))\n",
    "randomThings.append('New Added')\n",
    "print(randomThings)\n",
    "randomThings.insert(-1,'2nd New added')\n",
    "print(randomThings)\n",
    "del randomThings[-1]\n",
    "randomThings.pop(-1)\n",
    "print(randomThings)\n",
    "randomThings.remove('Punjabi')\n",
    "print(randomThings)\n",
    "\n",
    "print(sorted(randomThings))\n",
    "print(sorted(randomThings,reverse=True))\n",
    "randomThings.sort()\n",
    "print(randomThings)\n",
    "\n",
    "randomThings.sort(reverse=True)\n",
    "print(randomThings)\n",
    "\n",
    "\n",
    "#etc"
   ]
  },
  {
   "cell_type": "code",
   "execution_count": null,
   "metadata": {},
   "outputs": [],
   "source": []
  }
 ],
 "metadata": {
  "kernelspec": {
   "display_name": "Python 3",
   "language": "python",
   "name": "python3"
  },
  "language_info": {
   "codemirror_mode": {
    "name": "ipython",
    "version": 3
   },
   "file_extension": ".py",
   "mimetype": "text/x-python",
   "name": "python",
   "nbconvert_exporter": "python",
   "pygments_lexer": "ipython3",
   "version": "3.8.5"
  }
 },
 "nbformat": 4,
 "nbformat_minor": 4
}
